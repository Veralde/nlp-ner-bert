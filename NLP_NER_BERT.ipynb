{
  "nbformat": 4,
  "nbformat_minor": 0,
  "metadata": {
    "colab": {
      "provenance": [],
      "machine_shape": "hm",
      "gpuType": "A100"
    },
    "kernelspec": {
      "name": "python3",
      "display_name": "Python 3"
    },
    "language_info": {
      "name": "python"
    },
    "accelerator": "GPU",
    "widgets": {
      "application/vnd.jupyter.widget-state+json": {
        "58593c3e7167477e8ede9e166d61d26d": {
          "model_module": "@jupyter-widgets/controls",
          "model_name": "HBoxModel",
          "model_module_version": "1.5.0",
          "state": {
            "_dom_classes": [],
            "_model_module": "@jupyter-widgets/controls",
            "_model_module_version": "1.5.0",
            "_model_name": "HBoxModel",
            "_view_count": null,
            "_view_module": "@jupyter-widgets/controls",
            "_view_module_version": "1.5.0",
            "_view_name": "HBoxView",
            "box_style": "",
            "children": [
              "IPY_MODEL_ed70273678284c569a272cee957b7372",
              "IPY_MODEL_5bf21e108cce4517b9d788156b71566f",
              "IPY_MODEL_b76bd77d28d4487caeb2b2453efae360"
            ],
            "layout": "IPY_MODEL_f08b1f25ee484e2ebc5c734bb9056ade"
          }
        },
        "ed70273678284c569a272cee957b7372": {
          "model_module": "@jupyter-widgets/controls",
          "model_name": "HTMLModel",
          "model_module_version": "1.5.0",
          "state": {
            "_dom_classes": [],
            "_model_module": "@jupyter-widgets/controls",
            "_model_module_version": "1.5.0",
            "_model_name": "HTMLModel",
            "_view_count": null,
            "_view_module": "@jupyter-widgets/controls",
            "_view_module_version": "1.5.0",
            "_view_name": "HTMLView",
            "description": "",
            "description_tooltip": null,
            "layout": "IPY_MODEL_c830b36a256847b6bb7939908704483f",
            "placeholder": "​",
            "style": "IPY_MODEL_007ea5d119e74ca5af7398bf33126a6f",
            "value": "tokenizer_config.json: 100%"
          }
        },
        "5bf21e108cce4517b9d788156b71566f": {
          "model_module": "@jupyter-widgets/controls",
          "model_name": "FloatProgressModel",
          "model_module_version": "1.5.0",
          "state": {
            "_dom_classes": [],
            "_model_module": "@jupyter-widgets/controls",
            "_model_module_version": "1.5.0",
            "_model_name": "FloatProgressModel",
            "_view_count": null,
            "_view_module": "@jupyter-widgets/controls",
            "_view_module_version": "1.5.0",
            "_view_name": "ProgressView",
            "bar_style": "success",
            "description": "",
            "description_tooltip": null,
            "layout": "IPY_MODEL_ad595cf7877c48e28ea2d6f46b02de33",
            "max": 49,
            "min": 0,
            "orientation": "horizontal",
            "style": "IPY_MODEL_05bfa4c2ecc1471db9fb944f7798cadb",
            "value": 49
          }
        },
        "b76bd77d28d4487caeb2b2453efae360": {
          "model_module": "@jupyter-widgets/controls",
          "model_name": "HTMLModel",
          "model_module_version": "1.5.0",
          "state": {
            "_dom_classes": [],
            "_model_module": "@jupyter-widgets/controls",
            "_model_module_version": "1.5.0",
            "_model_name": "HTMLModel",
            "_view_count": null,
            "_view_module": "@jupyter-widgets/controls",
            "_view_module_version": "1.5.0",
            "_view_name": "HTMLView",
            "description": "",
            "description_tooltip": null,
            "layout": "IPY_MODEL_b9053a2f6d3041c3b6db5ec7a25e2d9b",
            "placeholder": "​",
            "style": "IPY_MODEL_746c31aac324497ba8abb162ba26dfee",
            "value": " 49.0/49.0 [00:00&lt;00:00, 5.40kB/s]"
          }
        },
        "f08b1f25ee484e2ebc5c734bb9056ade": {
          "model_module": "@jupyter-widgets/base",
          "model_name": "LayoutModel",
          "model_module_version": "1.2.0",
          "state": {
            "_model_module": "@jupyter-widgets/base",
            "_model_module_version": "1.2.0",
            "_model_name": "LayoutModel",
            "_view_count": null,
            "_view_module": "@jupyter-widgets/base",
            "_view_module_version": "1.2.0",
            "_view_name": "LayoutView",
            "align_content": null,
            "align_items": null,
            "align_self": null,
            "border": null,
            "bottom": null,
            "display": null,
            "flex": null,
            "flex_flow": null,
            "grid_area": null,
            "grid_auto_columns": null,
            "grid_auto_flow": null,
            "grid_auto_rows": null,
            "grid_column": null,
            "grid_gap": null,
            "grid_row": null,
            "grid_template_areas": null,
            "grid_template_columns": null,
            "grid_template_rows": null,
            "height": null,
            "justify_content": null,
            "justify_items": null,
            "left": null,
            "margin": null,
            "max_height": null,
            "max_width": null,
            "min_height": null,
            "min_width": null,
            "object_fit": null,
            "object_position": null,
            "order": null,
            "overflow": null,
            "overflow_x": null,
            "overflow_y": null,
            "padding": null,
            "right": null,
            "top": null,
            "visibility": null,
            "width": null
          }
        },
        "c830b36a256847b6bb7939908704483f": {
          "model_module": "@jupyter-widgets/base",
          "model_name": "LayoutModel",
          "model_module_version": "1.2.0",
          "state": {
            "_model_module": "@jupyter-widgets/base",
            "_model_module_version": "1.2.0",
            "_model_name": "LayoutModel",
            "_view_count": null,
            "_view_module": "@jupyter-widgets/base",
            "_view_module_version": "1.2.0",
            "_view_name": "LayoutView",
            "align_content": null,
            "align_items": null,
            "align_self": null,
            "border": null,
            "bottom": null,
            "display": null,
            "flex": null,
            "flex_flow": null,
            "grid_area": null,
            "grid_auto_columns": null,
            "grid_auto_flow": null,
            "grid_auto_rows": null,
            "grid_column": null,
            "grid_gap": null,
            "grid_row": null,
            "grid_template_areas": null,
            "grid_template_columns": null,
            "grid_template_rows": null,
            "height": null,
            "justify_content": null,
            "justify_items": null,
            "left": null,
            "margin": null,
            "max_height": null,
            "max_width": null,
            "min_height": null,
            "min_width": null,
            "object_fit": null,
            "object_position": null,
            "order": null,
            "overflow": null,
            "overflow_x": null,
            "overflow_y": null,
            "padding": null,
            "right": null,
            "top": null,
            "visibility": null,
            "width": null
          }
        },
        "007ea5d119e74ca5af7398bf33126a6f": {
          "model_module": "@jupyter-widgets/controls",
          "model_name": "DescriptionStyleModel",
          "model_module_version": "1.5.0",
          "state": {
            "_model_module": "@jupyter-widgets/controls",
            "_model_module_version": "1.5.0",
            "_model_name": "DescriptionStyleModel",
            "_view_count": null,
            "_view_module": "@jupyter-widgets/base",
            "_view_module_version": "1.2.0",
            "_view_name": "StyleView",
            "description_width": ""
          }
        },
        "ad595cf7877c48e28ea2d6f46b02de33": {
          "model_module": "@jupyter-widgets/base",
          "model_name": "LayoutModel",
          "model_module_version": "1.2.0",
          "state": {
            "_model_module": "@jupyter-widgets/base",
            "_model_module_version": "1.2.0",
            "_model_name": "LayoutModel",
            "_view_count": null,
            "_view_module": "@jupyter-widgets/base",
            "_view_module_version": "1.2.0",
            "_view_name": "LayoutView",
            "align_content": null,
            "align_items": null,
            "align_self": null,
            "border": null,
            "bottom": null,
            "display": null,
            "flex": null,
            "flex_flow": null,
            "grid_area": null,
            "grid_auto_columns": null,
            "grid_auto_flow": null,
            "grid_auto_rows": null,
            "grid_column": null,
            "grid_gap": null,
            "grid_row": null,
            "grid_template_areas": null,
            "grid_template_columns": null,
            "grid_template_rows": null,
            "height": null,
            "justify_content": null,
            "justify_items": null,
            "left": null,
            "margin": null,
            "max_height": null,
            "max_width": null,
            "min_height": null,
            "min_width": null,
            "object_fit": null,
            "object_position": null,
            "order": null,
            "overflow": null,
            "overflow_x": null,
            "overflow_y": null,
            "padding": null,
            "right": null,
            "top": null,
            "visibility": null,
            "width": null
          }
        },
        "05bfa4c2ecc1471db9fb944f7798cadb": {
          "model_module": "@jupyter-widgets/controls",
          "model_name": "ProgressStyleModel",
          "model_module_version": "1.5.0",
          "state": {
            "_model_module": "@jupyter-widgets/controls",
            "_model_module_version": "1.5.0",
            "_model_name": "ProgressStyleModel",
            "_view_count": null,
            "_view_module": "@jupyter-widgets/base",
            "_view_module_version": "1.2.0",
            "_view_name": "StyleView",
            "bar_color": null,
            "description_width": ""
          }
        },
        "b9053a2f6d3041c3b6db5ec7a25e2d9b": {
          "model_module": "@jupyter-widgets/base",
          "model_name": "LayoutModel",
          "model_module_version": "1.2.0",
          "state": {
            "_model_module": "@jupyter-widgets/base",
            "_model_module_version": "1.2.0",
            "_model_name": "LayoutModel",
            "_view_count": null,
            "_view_module": "@jupyter-widgets/base",
            "_view_module_version": "1.2.0",
            "_view_name": "LayoutView",
            "align_content": null,
            "align_items": null,
            "align_self": null,
            "border": null,
            "bottom": null,
            "display": null,
            "flex": null,
            "flex_flow": null,
            "grid_area": null,
            "grid_auto_columns": null,
            "grid_auto_flow": null,
            "grid_auto_rows": null,
            "grid_column": null,
            "grid_gap": null,
            "grid_row": null,
            "grid_template_areas": null,
            "grid_template_columns": null,
            "grid_template_rows": null,
            "height": null,
            "justify_content": null,
            "justify_items": null,
            "left": null,
            "margin": null,
            "max_height": null,
            "max_width": null,
            "min_height": null,
            "min_width": null,
            "object_fit": null,
            "object_position": null,
            "order": null,
            "overflow": null,
            "overflow_x": null,
            "overflow_y": null,
            "padding": null,
            "right": null,
            "top": null,
            "visibility": null,
            "width": null
          }
        },
        "746c31aac324497ba8abb162ba26dfee": {
          "model_module": "@jupyter-widgets/controls",
          "model_name": "DescriptionStyleModel",
          "model_module_version": "1.5.0",
          "state": {
            "_model_module": "@jupyter-widgets/controls",
            "_model_module_version": "1.5.0",
            "_model_name": "DescriptionStyleModel",
            "_view_count": null,
            "_view_module": "@jupyter-widgets/base",
            "_view_module_version": "1.2.0",
            "_view_name": "StyleView",
            "description_width": ""
          }
        },
        "f1a64e6519d149edb06ab20d787a824c": {
          "model_module": "@jupyter-widgets/controls",
          "model_name": "HBoxModel",
          "model_module_version": "1.5.0",
          "state": {
            "_dom_classes": [],
            "_model_module": "@jupyter-widgets/controls",
            "_model_module_version": "1.5.0",
            "_model_name": "HBoxModel",
            "_view_count": null,
            "_view_module": "@jupyter-widgets/controls",
            "_view_module_version": "1.5.0",
            "_view_name": "HBoxView",
            "box_style": "",
            "children": [
              "IPY_MODEL_f196d4804fc246158c7c238b729d4ed8",
              "IPY_MODEL_b0d3b288fca7431f880baf82dd66e50e",
              "IPY_MODEL_b722e59f644a45cd898f1042a29083f0"
            ],
            "layout": "IPY_MODEL_aebb643acfe44bd3a80966b7155b190b"
          }
        },
        "f196d4804fc246158c7c238b729d4ed8": {
          "model_module": "@jupyter-widgets/controls",
          "model_name": "HTMLModel",
          "model_module_version": "1.5.0",
          "state": {
            "_dom_classes": [],
            "_model_module": "@jupyter-widgets/controls",
            "_model_module_version": "1.5.0",
            "_model_name": "HTMLModel",
            "_view_count": null,
            "_view_module": "@jupyter-widgets/controls",
            "_view_module_version": "1.5.0",
            "_view_name": "HTMLView",
            "description": "",
            "description_tooltip": null,
            "layout": "IPY_MODEL_b95058fe15f246059f8d78f0bf09641c",
            "placeholder": "​",
            "style": "IPY_MODEL_a8bcedd67c86413090282ed333292dda",
            "value": "config.json: 100%"
          }
        },
        "b0d3b288fca7431f880baf82dd66e50e": {
          "model_module": "@jupyter-widgets/controls",
          "model_name": "FloatProgressModel",
          "model_module_version": "1.5.0",
          "state": {
            "_dom_classes": [],
            "_model_module": "@jupyter-widgets/controls",
            "_model_module_version": "1.5.0",
            "_model_name": "FloatProgressModel",
            "_view_count": null,
            "_view_module": "@jupyter-widgets/controls",
            "_view_module_version": "1.5.0",
            "_view_name": "ProgressView",
            "bar_style": "success",
            "description": "",
            "description_tooltip": null,
            "layout": "IPY_MODEL_ca071ac5703a4650bce9ae5aace0ae46",
            "max": 570,
            "min": 0,
            "orientation": "horizontal",
            "style": "IPY_MODEL_196767875bfb496c997efe75b3a21e9e",
            "value": 570
          }
        },
        "b722e59f644a45cd898f1042a29083f0": {
          "model_module": "@jupyter-widgets/controls",
          "model_name": "HTMLModel",
          "model_module_version": "1.5.0",
          "state": {
            "_dom_classes": [],
            "_model_module": "@jupyter-widgets/controls",
            "_model_module_version": "1.5.0",
            "_model_name": "HTMLModel",
            "_view_count": null,
            "_view_module": "@jupyter-widgets/controls",
            "_view_module_version": "1.5.0",
            "_view_name": "HTMLView",
            "description": "",
            "description_tooltip": null,
            "layout": "IPY_MODEL_0bb64e02e1164717939c7dde5f27c7ce",
            "placeholder": "​",
            "style": "IPY_MODEL_29156c28f6db434faa4e379302e166b0",
            "value": " 570/570 [00:00&lt;00:00, 70.3kB/s]"
          }
        },
        "aebb643acfe44bd3a80966b7155b190b": {
          "model_module": "@jupyter-widgets/base",
          "model_name": "LayoutModel",
          "model_module_version": "1.2.0",
          "state": {
            "_model_module": "@jupyter-widgets/base",
            "_model_module_version": "1.2.0",
            "_model_name": "LayoutModel",
            "_view_count": null,
            "_view_module": "@jupyter-widgets/base",
            "_view_module_version": "1.2.0",
            "_view_name": "LayoutView",
            "align_content": null,
            "align_items": null,
            "align_self": null,
            "border": null,
            "bottom": null,
            "display": null,
            "flex": null,
            "flex_flow": null,
            "grid_area": null,
            "grid_auto_columns": null,
            "grid_auto_flow": null,
            "grid_auto_rows": null,
            "grid_column": null,
            "grid_gap": null,
            "grid_row": null,
            "grid_template_areas": null,
            "grid_template_columns": null,
            "grid_template_rows": null,
            "height": null,
            "justify_content": null,
            "justify_items": null,
            "left": null,
            "margin": null,
            "max_height": null,
            "max_width": null,
            "min_height": null,
            "min_width": null,
            "object_fit": null,
            "object_position": null,
            "order": null,
            "overflow": null,
            "overflow_x": null,
            "overflow_y": null,
            "padding": null,
            "right": null,
            "top": null,
            "visibility": null,
            "width": null
          }
        },
        "b95058fe15f246059f8d78f0bf09641c": {
          "model_module": "@jupyter-widgets/base",
          "model_name": "LayoutModel",
          "model_module_version": "1.2.0",
          "state": {
            "_model_module": "@jupyter-widgets/base",
            "_model_module_version": "1.2.0",
            "_model_name": "LayoutModel",
            "_view_count": null,
            "_view_module": "@jupyter-widgets/base",
            "_view_module_version": "1.2.0",
            "_view_name": "LayoutView",
            "align_content": null,
            "align_items": null,
            "align_self": null,
            "border": null,
            "bottom": null,
            "display": null,
            "flex": null,
            "flex_flow": null,
            "grid_area": null,
            "grid_auto_columns": null,
            "grid_auto_flow": null,
            "grid_auto_rows": null,
            "grid_column": null,
            "grid_gap": null,
            "grid_row": null,
            "grid_template_areas": null,
            "grid_template_columns": null,
            "grid_template_rows": null,
            "height": null,
            "justify_content": null,
            "justify_items": null,
            "left": null,
            "margin": null,
            "max_height": null,
            "max_width": null,
            "min_height": null,
            "min_width": null,
            "object_fit": null,
            "object_position": null,
            "order": null,
            "overflow": null,
            "overflow_x": null,
            "overflow_y": null,
            "padding": null,
            "right": null,
            "top": null,
            "visibility": null,
            "width": null
          }
        },
        "a8bcedd67c86413090282ed333292dda": {
          "model_module": "@jupyter-widgets/controls",
          "model_name": "DescriptionStyleModel",
          "model_module_version": "1.5.0",
          "state": {
            "_model_module": "@jupyter-widgets/controls",
            "_model_module_version": "1.5.0",
            "_model_name": "DescriptionStyleModel",
            "_view_count": null,
            "_view_module": "@jupyter-widgets/base",
            "_view_module_version": "1.2.0",
            "_view_name": "StyleView",
            "description_width": ""
          }
        },
        "ca071ac5703a4650bce9ae5aace0ae46": {
          "model_module": "@jupyter-widgets/base",
          "model_name": "LayoutModel",
          "model_module_version": "1.2.0",
          "state": {
            "_model_module": "@jupyter-widgets/base",
            "_model_module_version": "1.2.0",
            "_model_name": "LayoutModel",
            "_view_count": null,
            "_view_module": "@jupyter-widgets/base",
            "_view_module_version": "1.2.0",
            "_view_name": "LayoutView",
            "align_content": null,
            "align_items": null,
            "align_self": null,
            "border": null,
            "bottom": null,
            "display": null,
            "flex": null,
            "flex_flow": null,
            "grid_area": null,
            "grid_auto_columns": null,
            "grid_auto_flow": null,
            "grid_auto_rows": null,
            "grid_column": null,
            "grid_gap": null,
            "grid_row": null,
            "grid_template_areas": null,
            "grid_template_columns": null,
            "grid_template_rows": null,
            "height": null,
            "justify_content": null,
            "justify_items": null,
            "left": null,
            "margin": null,
            "max_height": null,
            "max_width": null,
            "min_height": null,
            "min_width": null,
            "object_fit": null,
            "object_position": null,
            "order": null,
            "overflow": null,
            "overflow_x": null,
            "overflow_y": null,
            "padding": null,
            "right": null,
            "top": null,
            "visibility": null,
            "width": null
          }
        },
        "196767875bfb496c997efe75b3a21e9e": {
          "model_module": "@jupyter-widgets/controls",
          "model_name": "ProgressStyleModel",
          "model_module_version": "1.5.0",
          "state": {
            "_model_module": "@jupyter-widgets/controls",
            "_model_module_version": "1.5.0",
            "_model_name": "ProgressStyleModel",
            "_view_count": null,
            "_view_module": "@jupyter-widgets/base",
            "_view_module_version": "1.2.0",
            "_view_name": "StyleView",
            "bar_color": null,
            "description_width": ""
          }
        },
        "0bb64e02e1164717939c7dde5f27c7ce": {
          "model_module": "@jupyter-widgets/base",
          "model_name": "LayoutModel",
          "model_module_version": "1.2.0",
          "state": {
            "_model_module": "@jupyter-widgets/base",
            "_model_module_version": "1.2.0",
            "_model_name": "LayoutModel",
            "_view_count": null,
            "_view_module": "@jupyter-widgets/base",
            "_view_module_version": "1.2.0",
            "_view_name": "LayoutView",
            "align_content": null,
            "align_items": null,
            "align_self": null,
            "border": null,
            "bottom": null,
            "display": null,
            "flex": null,
            "flex_flow": null,
            "grid_area": null,
            "grid_auto_columns": null,
            "grid_auto_flow": null,
            "grid_auto_rows": null,
            "grid_column": null,
            "grid_gap": null,
            "grid_row": null,
            "grid_template_areas": null,
            "grid_template_columns": null,
            "grid_template_rows": null,
            "height": null,
            "justify_content": null,
            "justify_items": null,
            "left": null,
            "margin": null,
            "max_height": null,
            "max_width": null,
            "min_height": null,
            "min_width": null,
            "object_fit": null,
            "object_position": null,
            "order": null,
            "overflow": null,
            "overflow_x": null,
            "overflow_y": null,
            "padding": null,
            "right": null,
            "top": null,
            "visibility": null,
            "width": null
          }
        },
        "29156c28f6db434faa4e379302e166b0": {
          "model_module": "@jupyter-widgets/controls",
          "model_name": "DescriptionStyleModel",
          "model_module_version": "1.5.0",
          "state": {
            "_model_module": "@jupyter-widgets/controls",
            "_model_module_version": "1.5.0",
            "_model_name": "DescriptionStyleModel",
            "_view_count": null,
            "_view_module": "@jupyter-widgets/base",
            "_view_module_version": "1.2.0",
            "_view_name": "StyleView",
            "description_width": ""
          }
        },
        "0a0c070b051e45a8b1e26a5af83dee5d": {
          "model_module": "@jupyter-widgets/controls",
          "model_name": "HBoxModel",
          "model_module_version": "1.5.0",
          "state": {
            "_dom_classes": [],
            "_model_module": "@jupyter-widgets/controls",
            "_model_module_version": "1.5.0",
            "_model_name": "HBoxModel",
            "_view_count": null,
            "_view_module": "@jupyter-widgets/controls",
            "_view_module_version": "1.5.0",
            "_view_name": "HBoxView",
            "box_style": "",
            "children": [
              "IPY_MODEL_3b2ed7031730498093913dcc6155e3af",
              "IPY_MODEL_38650878703242418c4a4ee471adff62",
              "IPY_MODEL_77d252f571d246a3aacc9e875f0ad2fb"
            ],
            "layout": "IPY_MODEL_0736fc86b2ff4f56b9449606aab45be5"
          }
        },
        "3b2ed7031730498093913dcc6155e3af": {
          "model_module": "@jupyter-widgets/controls",
          "model_name": "HTMLModel",
          "model_module_version": "1.5.0",
          "state": {
            "_dom_classes": [],
            "_model_module": "@jupyter-widgets/controls",
            "_model_module_version": "1.5.0",
            "_model_name": "HTMLModel",
            "_view_count": null,
            "_view_module": "@jupyter-widgets/controls",
            "_view_module_version": "1.5.0",
            "_view_name": "HTMLView",
            "description": "",
            "description_tooltip": null,
            "layout": "IPY_MODEL_46b0e1d911dc440cb7fe5163bd1dab7f",
            "placeholder": "​",
            "style": "IPY_MODEL_8b874c5f656d4557812c5228e5393ab6",
            "value": "vocab.txt: 100%"
          }
        },
        "38650878703242418c4a4ee471adff62": {
          "model_module": "@jupyter-widgets/controls",
          "model_name": "FloatProgressModel",
          "model_module_version": "1.5.0",
          "state": {
            "_dom_classes": [],
            "_model_module": "@jupyter-widgets/controls",
            "_model_module_version": "1.5.0",
            "_model_name": "FloatProgressModel",
            "_view_count": null,
            "_view_module": "@jupyter-widgets/controls",
            "_view_module_version": "1.5.0",
            "_view_name": "ProgressView",
            "bar_style": "success",
            "description": "",
            "description_tooltip": null,
            "layout": "IPY_MODEL_4fc940573a344255bd42d575369fef2a",
            "max": 213450,
            "min": 0,
            "orientation": "horizontal",
            "style": "IPY_MODEL_e15dfed77ac242e39cad47efaf0b9724",
            "value": 213450
          }
        },
        "77d252f571d246a3aacc9e875f0ad2fb": {
          "model_module": "@jupyter-widgets/controls",
          "model_name": "HTMLModel",
          "model_module_version": "1.5.0",
          "state": {
            "_dom_classes": [],
            "_model_module": "@jupyter-widgets/controls",
            "_model_module_version": "1.5.0",
            "_model_name": "HTMLModel",
            "_view_count": null,
            "_view_module": "@jupyter-widgets/controls",
            "_view_module_version": "1.5.0",
            "_view_name": "HTMLView",
            "description": "",
            "description_tooltip": null,
            "layout": "IPY_MODEL_d4823c766640420db711ec0b41d75598",
            "placeholder": "​",
            "style": "IPY_MODEL_eafa5615f51d4a2580022581b3ddea7b",
            "value": " 213k/213k [00:00&lt;00:00, 5.94MB/s]"
          }
        },
        "0736fc86b2ff4f56b9449606aab45be5": {
          "model_module": "@jupyter-widgets/base",
          "model_name": "LayoutModel",
          "model_module_version": "1.2.0",
          "state": {
            "_model_module": "@jupyter-widgets/base",
            "_model_module_version": "1.2.0",
            "_model_name": "LayoutModel",
            "_view_count": null,
            "_view_module": "@jupyter-widgets/base",
            "_view_module_version": "1.2.0",
            "_view_name": "LayoutView",
            "align_content": null,
            "align_items": null,
            "align_self": null,
            "border": null,
            "bottom": null,
            "display": null,
            "flex": null,
            "flex_flow": null,
            "grid_area": null,
            "grid_auto_columns": null,
            "grid_auto_flow": null,
            "grid_auto_rows": null,
            "grid_column": null,
            "grid_gap": null,
            "grid_row": null,
            "grid_template_areas": null,
            "grid_template_columns": null,
            "grid_template_rows": null,
            "height": null,
            "justify_content": null,
            "justify_items": null,
            "left": null,
            "margin": null,
            "max_height": null,
            "max_width": null,
            "min_height": null,
            "min_width": null,
            "object_fit": null,
            "object_position": null,
            "order": null,
            "overflow": null,
            "overflow_x": null,
            "overflow_y": null,
            "padding": null,
            "right": null,
            "top": null,
            "visibility": null,
            "width": null
          }
        },
        "46b0e1d911dc440cb7fe5163bd1dab7f": {
          "model_module": "@jupyter-widgets/base",
          "model_name": "LayoutModel",
          "model_module_version": "1.2.0",
          "state": {
            "_model_module": "@jupyter-widgets/base",
            "_model_module_version": "1.2.0",
            "_model_name": "LayoutModel",
            "_view_count": null,
            "_view_module": "@jupyter-widgets/base",
            "_view_module_version": "1.2.0",
            "_view_name": "LayoutView",
            "align_content": null,
            "align_items": null,
            "align_self": null,
            "border": null,
            "bottom": null,
            "display": null,
            "flex": null,
            "flex_flow": null,
            "grid_area": null,
            "grid_auto_columns": null,
            "grid_auto_flow": null,
            "grid_auto_rows": null,
            "grid_column": null,
            "grid_gap": null,
            "grid_row": null,
            "grid_template_areas": null,
            "grid_template_columns": null,
            "grid_template_rows": null,
            "height": null,
            "justify_content": null,
            "justify_items": null,
            "left": null,
            "margin": null,
            "max_height": null,
            "max_width": null,
            "min_height": null,
            "min_width": null,
            "object_fit": null,
            "object_position": null,
            "order": null,
            "overflow": null,
            "overflow_x": null,
            "overflow_y": null,
            "padding": null,
            "right": null,
            "top": null,
            "visibility": null,
            "width": null
          }
        },
        "8b874c5f656d4557812c5228e5393ab6": {
          "model_module": "@jupyter-widgets/controls",
          "model_name": "DescriptionStyleModel",
          "model_module_version": "1.5.0",
          "state": {
            "_model_module": "@jupyter-widgets/controls",
            "_model_module_version": "1.5.0",
            "_model_name": "DescriptionStyleModel",
            "_view_count": null,
            "_view_module": "@jupyter-widgets/base",
            "_view_module_version": "1.2.0",
            "_view_name": "StyleView",
            "description_width": ""
          }
        },
        "4fc940573a344255bd42d575369fef2a": {
          "model_module": "@jupyter-widgets/base",
          "model_name": "LayoutModel",
          "model_module_version": "1.2.0",
          "state": {
            "_model_module": "@jupyter-widgets/base",
            "_model_module_version": "1.2.0",
            "_model_name": "LayoutModel",
            "_view_count": null,
            "_view_module": "@jupyter-widgets/base",
            "_view_module_version": "1.2.0",
            "_view_name": "LayoutView",
            "align_content": null,
            "align_items": null,
            "align_self": null,
            "border": null,
            "bottom": null,
            "display": null,
            "flex": null,
            "flex_flow": null,
            "grid_area": null,
            "grid_auto_columns": null,
            "grid_auto_flow": null,
            "grid_auto_rows": null,
            "grid_column": null,
            "grid_gap": null,
            "grid_row": null,
            "grid_template_areas": null,
            "grid_template_columns": null,
            "grid_template_rows": null,
            "height": null,
            "justify_content": null,
            "justify_items": null,
            "left": null,
            "margin": null,
            "max_height": null,
            "max_width": null,
            "min_height": null,
            "min_width": null,
            "object_fit": null,
            "object_position": null,
            "order": null,
            "overflow": null,
            "overflow_x": null,
            "overflow_y": null,
            "padding": null,
            "right": null,
            "top": null,
            "visibility": null,
            "width": null
          }
        },
        "e15dfed77ac242e39cad47efaf0b9724": {
          "model_module": "@jupyter-widgets/controls",
          "model_name": "ProgressStyleModel",
          "model_module_version": "1.5.0",
          "state": {
            "_model_module": "@jupyter-widgets/controls",
            "_model_module_version": "1.5.0",
            "_model_name": "ProgressStyleModel",
            "_view_count": null,
            "_view_module": "@jupyter-widgets/base",
            "_view_module_version": "1.2.0",
            "_view_name": "StyleView",
            "bar_color": null,
            "description_width": ""
          }
        },
        "d4823c766640420db711ec0b41d75598": {
          "model_module": "@jupyter-widgets/base",
          "model_name": "LayoutModel",
          "model_module_version": "1.2.0",
          "state": {
            "_model_module": "@jupyter-widgets/base",
            "_model_module_version": "1.2.0",
            "_model_name": "LayoutModel",
            "_view_count": null,
            "_view_module": "@jupyter-widgets/base",
            "_view_module_version": "1.2.0",
            "_view_name": "LayoutView",
            "align_content": null,
            "align_items": null,
            "align_self": null,
            "border": null,
            "bottom": null,
            "display": null,
            "flex": null,
            "flex_flow": null,
            "grid_area": null,
            "grid_auto_columns": null,
            "grid_auto_flow": null,
            "grid_auto_rows": null,
            "grid_column": null,
            "grid_gap": null,
            "grid_row": null,
            "grid_template_areas": null,
            "grid_template_columns": null,
            "grid_template_rows": null,
            "height": null,
            "justify_content": null,
            "justify_items": null,
            "left": null,
            "margin": null,
            "max_height": null,
            "max_width": null,
            "min_height": null,
            "min_width": null,
            "object_fit": null,
            "object_position": null,
            "order": null,
            "overflow": null,
            "overflow_x": null,
            "overflow_y": null,
            "padding": null,
            "right": null,
            "top": null,
            "visibility": null,
            "width": null
          }
        },
        "eafa5615f51d4a2580022581b3ddea7b": {
          "model_module": "@jupyter-widgets/controls",
          "model_name": "DescriptionStyleModel",
          "model_module_version": "1.5.0",
          "state": {
            "_model_module": "@jupyter-widgets/controls",
            "_model_module_version": "1.5.0",
            "_model_name": "DescriptionStyleModel",
            "_view_count": null,
            "_view_module": "@jupyter-widgets/base",
            "_view_module_version": "1.2.0",
            "_view_name": "StyleView",
            "description_width": ""
          }
        },
        "bdf7b38f83274367a9a4e7e4da169156": {
          "model_module": "@jupyter-widgets/controls",
          "model_name": "HBoxModel",
          "model_module_version": "1.5.0",
          "state": {
            "_dom_classes": [],
            "_model_module": "@jupyter-widgets/controls",
            "_model_module_version": "1.5.0",
            "_model_name": "HBoxModel",
            "_view_count": null,
            "_view_module": "@jupyter-widgets/controls",
            "_view_module_version": "1.5.0",
            "_view_name": "HBoxView",
            "box_style": "",
            "children": [
              "IPY_MODEL_97bec4db48ff4b43be2c8ec05dafa41e",
              "IPY_MODEL_98011e577d124397beea1f0ff784e833",
              "IPY_MODEL_c13f1fb614bb4ef699608d5d5b13e0a8"
            ],
            "layout": "IPY_MODEL_9962358c3eb9468ab735266d491929e3"
          }
        },
        "97bec4db48ff4b43be2c8ec05dafa41e": {
          "model_module": "@jupyter-widgets/controls",
          "model_name": "HTMLModel",
          "model_module_version": "1.5.0",
          "state": {
            "_dom_classes": [],
            "_model_module": "@jupyter-widgets/controls",
            "_model_module_version": "1.5.0",
            "_model_name": "HTMLModel",
            "_view_count": null,
            "_view_module": "@jupyter-widgets/controls",
            "_view_module_version": "1.5.0",
            "_view_name": "HTMLView",
            "description": "",
            "description_tooltip": null,
            "layout": "IPY_MODEL_9978b7ede82146a9a86523667d0a2354",
            "placeholder": "​",
            "style": "IPY_MODEL_9131995ccd4b4f408903ab50f3444247",
            "value": "tokenizer.json: 100%"
          }
        },
        "98011e577d124397beea1f0ff784e833": {
          "model_module": "@jupyter-widgets/controls",
          "model_name": "FloatProgressModel",
          "model_module_version": "1.5.0",
          "state": {
            "_dom_classes": [],
            "_model_module": "@jupyter-widgets/controls",
            "_model_module_version": "1.5.0",
            "_model_name": "FloatProgressModel",
            "_view_count": null,
            "_view_module": "@jupyter-widgets/controls",
            "_view_module_version": "1.5.0",
            "_view_name": "ProgressView",
            "bar_style": "success",
            "description": "",
            "description_tooltip": null,
            "layout": "IPY_MODEL_fa766439765c4b5795fa9ca493b99fbc",
            "max": 435797,
            "min": 0,
            "orientation": "horizontal",
            "style": "IPY_MODEL_2c8edf2129994790b3eced23ed9343c6",
            "value": 435797
          }
        },
        "c13f1fb614bb4ef699608d5d5b13e0a8": {
          "model_module": "@jupyter-widgets/controls",
          "model_name": "HTMLModel",
          "model_module_version": "1.5.0",
          "state": {
            "_dom_classes": [],
            "_model_module": "@jupyter-widgets/controls",
            "_model_module_version": "1.5.0",
            "_model_name": "HTMLModel",
            "_view_count": null,
            "_view_module": "@jupyter-widgets/controls",
            "_view_module_version": "1.5.0",
            "_view_name": "HTMLView",
            "description": "",
            "description_tooltip": null,
            "layout": "IPY_MODEL_d13300cc57e64f4bb6bf597006ef5313",
            "placeholder": "​",
            "style": "IPY_MODEL_5b740d40fe2f4ab3a6d4d3b1b17926ca",
            "value": " 436k/436k [00:00&lt;00:00, 11.3MB/s]"
          }
        },
        "9962358c3eb9468ab735266d491929e3": {
          "model_module": "@jupyter-widgets/base",
          "model_name": "LayoutModel",
          "model_module_version": "1.2.0",
          "state": {
            "_model_module": "@jupyter-widgets/base",
            "_model_module_version": "1.2.0",
            "_model_name": "LayoutModel",
            "_view_count": null,
            "_view_module": "@jupyter-widgets/base",
            "_view_module_version": "1.2.0",
            "_view_name": "LayoutView",
            "align_content": null,
            "align_items": null,
            "align_self": null,
            "border": null,
            "bottom": null,
            "display": null,
            "flex": null,
            "flex_flow": null,
            "grid_area": null,
            "grid_auto_columns": null,
            "grid_auto_flow": null,
            "grid_auto_rows": null,
            "grid_column": null,
            "grid_gap": null,
            "grid_row": null,
            "grid_template_areas": null,
            "grid_template_columns": null,
            "grid_template_rows": null,
            "height": null,
            "justify_content": null,
            "justify_items": null,
            "left": null,
            "margin": null,
            "max_height": null,
            "max_width": null,
            "min_height": null,
            "min_width": null,
            "object_fit": null,
            "object_position": null,
            "order": null,
            "overflow": null,
            "overflow_x": null,
            "overflow_y": null,
            "padding": null,
            "right": null,
            "top": null,
            "visibility": null,
            "width": null
          }
        },
        "9978b7ede82146a9a86523667d0a2354": {
          "model_module": "@jupyter-widgets/base",
          "model_name": "LayoutModel",
          "model_module_version": "1.2.0",
          "state": {
            "_model_module": "@jupyter-widgets/base",
            "_model_module_version": "1.2.0",
            "_model_name": "LayoutModel",
            "_view_count": null,
            "_view_module": "@jupyter-widgets/base",
            "_view_module_version": "1.2.0",
            "_view_name": "LayoutView",
            "align_content": null,
            "align_items": null,
            "align_self": null,
            "border": null,
            "bottom": null,
            "display": null,
            "flex": null,
            "flex_flow": null,
            "grid_area": null,
            "grid_auto_columns": null,
            "grid_auto_flow": null,
            "grid_auto_rows": null,
            "grid_column": null,
            "grid_gap": null,
            "grid_row": null,
            "grid_template_areas": null,
            "grid_template_columns": null,
            "grid_template_rows": null,
            "height": null,
            "justify_content": null,
            "justify_items": null,
            "left": null,
            "margin": null,
            "max_height": null,
            "max_width": null,
            "min_height": null,
            "min_width": null,
            "object_fit": null,
            "object_position": null,
            "order": null,
            "overflow": null,
            "overflow_x": null,
            "overflow_y": null,
            "padding": null,
            "right": null,
            "top": null,
            "visibility": null,
            "width": null
          }
        },
        "9131995ccd4b4f408903ab50f3444247": {
          "model_module": "@jupyter-widgets/controls",
          "model_name": "DescriptionStyleModel",
          "model_module_version": "1.5.0",
          "state": {
            "_model_module": "@jupyter-widgets/controls",
            "_model_module_version": "1.5.0",
            "_model_name": "DescriptionStyleModel",
            "_view_count": null,
            "_view_module": "@jupyter-widgets/base",
            "_view_module_version": "1.2.0",
            "_view_name": "StyleView",
            "description_width": ""
          }
        },
        "fa766439765c4b5795fa9ca493b99fbc": {
          "model_module": "@jupyter-widgets/base",
          "model_name": "LayoutModel",
          "model_module_version": "1.2.0",
          "state": {
            "_model_module": "@jupyter-widgets/base",
            "_model_module_version": "1.2.0",
            "_model_name": "LayoutModel",
            "_view_count": null,
            "_view_module": "@jupyter-widgets/base",
            "_view_module_version": "1.2.0",
            "_view_name": "LayoutView",
            "align_content": null,
            "align_items": null,
            "align_self": null,
            "border": null,
            "bottom": null,
            "display": null,
            "flex": null,
            "flex_flow": null,
            "grid_area": null,
            "grid_auto_columns": null,
            "grid_auto_flow": null,
            "grid_auto_rows": null,
            "grid_column": null,
            "grid_gap": null,
            "grid_row": null,
            "grid_template_areas": null,
            "grid_template_columns": null,
            "grid_template_rows": null,
            "height": null,
            "justify_content": null,
            "justify_items": null,
            "left": null,
            "margin": null,
            "max_height": null,
            "max_width": null,
            "min_height": null,
            "min_width": null,
            "object_fit": null,
            "object_position": null,
            "order": null,
            "overflow": null,
            "overflow_x": null,
            "overflow_y": null,
            "padding": null,
            "right": null,
            "top": null,
            "visibility": null,
            "width": null
          }
        },
        "2c8edf2129994790b3eced23ed9343c6": {
          "model_module": "@jupyter-widgets/controls",
          "model_name": "ProgressStyleModel",
          "model_module_version": "1.5.0",
          "state": {
            "_model_module": "@jupyter-widgets/controls",
            "_model_module_version": "1.5.0",
            "_model_name": "ProgressStyleModel",
            "_view_count": null,
            "_view_module": "@jupyter-widgets/base",
            "_view_module_version": "1.2.0",
            "_view_name": "StyleView",
            "bar_color": null,
            "description_width": ""
          }
        },
        "d13300cc57e64f4bb6bf597006ef5313": {
          "model_module": "@jupyter-widgets/base",
          "model_name": "LayoutModel",
          "model_module_version": "1.2.0",
          "state": {
            "_model_module": "@jupyter-widgets/base",
            "_model_module_version": "1.2.0",
            "_model_name": "LayoutModel",
            "_view_count": null,
            "_view_module": "@jupyter-widgets/base",
            "_view_module_version": "1.2.0",
            "_view_name": "LayoutView",
            "align_content": null,
            "align_items": null,
            "align_self": null,
            "border": null,
            "bottom": null,
            "display": null,
            "flex": null,
            "flex_flow": null,
            "grid_area": null,
            "grid_auto_columns": null,
            "grid_auto_flow": null,
            "grid_auto_rows": null,
            "grid_column": null,
            "grid_gap": null,
            "grid_row": null,
            "grid_template_areas": null,
            "grid_template_columns": null,
            "grid_template_rows": null,
            "height": null,
            "justify_content": null,
            "justify_items": null,
            "left": null,
            "margin": null,
            "max_height": null,
            "max_width": null,
            "min_height": null,
            "min_width": null,
            "object_fit": null,
            "object_position": null,
            "order": null,
            "overflow": null,
            "overflow_x": null,
            "overflow_y": null,
            "padding": null,
            "right": null,
            "top": null,
            "visibility": null,
            "width": null
          }
        },
        "5b740d40fe2f4ab3a6d4d3b1b17926ca": {
          "model_module": "@jupyter-widgets/controls",
          "model_name": "DescriptionStyleModel",
          "model_module_version": "1.5.0",
          "state": {
            "_model_module": "@jupyter-widgets/controls",
            "_model_module_version": "1.5.0",
            "_model_name": "DescriptionStyleModel",
            "_view_count": null,
            "_view_module": "@jupyter-widgets/base",
            "_view_module_version": "1.2.0",
            "_view_name": "StyleView",
            "description_width": ""
          }
        },
        "e3a920ab5060472b9fbfcb5a18577724": {
          "model_module": "@jupyter-widgets/controls",
          "model_name": "HBoxModel",
          "model_module_version": "1.5.0",
          "state": {
            "_dom_classes": [],
            "_model_module": "@jupyter-widgets/controls",
            "_model_module_version": "1.5.0",
            "_model_name": "HBoxModel",
            "_view_count": null,
            "_view_module": "@jupyter-widgets/controls",
            "_view_module_version": "1.5.0",
            "_view_name": "HBoxView",
            "box_style": "",
            "children": [
              "IPY_MODEL_15f0e416c5ae401f82ddb6bda6c9d6a4",
              "IPY_MODEL_3139911e37ad4cfe95607051e32e6a10",
              "IPY_MODEL_ebdf0ce78bdc40008642710f4bcaec35"
            ],
            "layout": "IPY_MODEL_06039894d4df490faee8cd5e7cf437dc"
          }
        },
        "15f0e416c5ae401f82ddb6bda6c9d6a4": {
          "model_module": "@jupyter-widgets/controls",
          "model_name": "HTMLModel",
          "model_module_version": "1.5.0",
          "state": {
            "_dom_classes": [],
            "_model_module": "@jupyter-widgets/controls",
            "_model_module_version": "1.5.0",
            "_model_name": "HTMLModel",
            "_view_count": null,
            "_view_module": "@jupyter-widgets/controls",
            "_view_module_version": "1.5.0",
            "_view_name": "HTMLView",
            "description": "",
            "description_tooltip": null,
            "layout": "IPY_MODEL_de95dec3136c498b87bdd18dd4d69390",
            "placeholder": "​",
            "style": "IPY_MODEL_6e60c01e4bf04f3e96f885a2a260906c",
            "value": "model.safetensors: 100%"
          }
        },
        "3139911e37ad4cfe95607051e32e6a10": {
          "model_module": "@jupyter-widgets/controls",
          "model_name": "FloatProgressModel",
          "model_module_version": "1.5.0",
          "state": {
            "_dom_classes": [],
            "_model_module": "@jupyter-widgets/controls",
            "_model_module_version": "1.5.0",
            "_model_name": "FloatProgressModel",
            "_view_count": null,
            "_view_module": "@jupyter-widgets/controls",
            "_view_module_version": "1.5.0",
            "_view_name": "ProgressView",
            "bar_style": "success",
            "description": "",
            "description_tooltip": null,
            "layout": "IPY_MODEL_fe31757874b746cdbfa88484eb5a228d",
            "max": 435755784,
            "min": 0,
            "orientation": "horizontal",
            "style": "IPY_MODEL_54d2cf8125664f64b3f1af620132e04f",
            "value": 435755784
          }
        },
        "ebdf0ce78bdc40008642710f4bcaec35": {
          "model_module": "@jupyter-widgets/controls",
          "model_name": "HTMLModel",
          "model_module_version": "1.5.0",
          "state": {
            "_dom_classes": [],
            "_model_module": "@jupyter-widgets/controls",
            "_model_module_version": "1.5.0",
            "_model_name": "HTMLModel",
            "_view_count": null,
            "_view_module": "@jupyter-widgets/controls",
            "_view_module_version": "1.5.0",
            "_view_name": "HTMLView",
            "description": "",
            "description_tooltip": null,
            "layout": "IPY_MODEL_b95276005a8c4c649bdcc6e2fe8fed66",
            "placeholder": "​",
            "style": "IPY_MODEL_bcf2cd5791af47aa87e7059afab18750",
            "value": " 436M/436M [00:02&lt;00:00, 264MB/s]"
          }
        },
        "06039894d4df490faee8cd5e7cf437dc": {
          "model_module": "@jupyter-widgets/base",
          "model_name": "LayoutModel",
          "model_module_version": "1.2.0",
          "state": {
            "_model_module": "@jupyter-widgets/base",
            "_model_module_version": "1.2.0",
            "_model_name": "LayoutModel",
            "_view_count": null,
            "_view_module": "@jupyter-widgets/base",
            "_view_module_version": "1.2.0",
            "_view_name": "LayoutView",
            "align_content": null,
            "align_items": null,
            "align_self": null,
            "border": null,
            "bottom": null,
            "display": null,
            "flex": null,
            "flex_flow": null,
            "grid_area": null,
            "grid_auto_columns": null,
            "grid_auto_flow": null,
            "grid_auto_rows": null,
            "grid_column": null,
            "grid_gap": null,
            "grid_row": null,
            "grid_template_areas": null,
            "grid_template_columns": null,
            "grid_template_rows": null,
            "height": null,
            "justify_content": null,
            "justify_items": null,
            "left": null,
            "margin": null,
            "max_height": null,
            "max_width": null,
            "min_height": null,
            "min_width": null,
            "object_fit": null,
            "object_position": null,
            "order": null,
            "overflow": null,
            "overflow_x": null,
            "overflow_y": null,
            "padding": null,
            "right": null,
            "top": null,
            "visibility": null,
            "width": null
          }
        },
        "de95dec3136c498b87bdd18dd4d69390": {
          "model_module": "@jupyter-widgets/base",
          "model_name": "LayoutModel",
          "model_module_version": "1.2.0",
          "state": {
            "_model_module": "@jupyter-widgets/base",
            "_model_module_version": "1.2.0",
            "_model_name": "LayoutModel",
            "_view_count": null,
            "_view_module": "@jupyter-widgets/base",
            "_view_module_version": "1.2.0",
            "_view_name": "LayoutView",
            "align_content": null,
            "align_items": null,
            "align_self": null,
            "border": null,
            "bottom": null,
            "display": null,
            "flex": null,
            "flex_flow": null,
            "grid_area": null,
            "grid_auto_columns": null,
            "grid_auto_flow": null,
            "grid_auto_rows": null,
            "grid_column": null,
            "grid_gap": null,
            "grid_row": null,
            "grid_template_areas": null,
            "grid_template_columns": null,
            "grid_template_rows": null,
            "height": null,
            "justify_content": null,
            "justify_items": null,
            "left": null,
            "margin": null,
            "max_height": null,
            "max_width": null,
            "min_height": null,
            "min_width": null,
            "object_fit": null,
            "object_position": null,
            "order": null,
            "overflow": null,
            "overflow_x": null,
            "overflow_y": null,
            "padding": null,
            "right": null,
            "top": null,
            "visibility": null,
            "width": null
          }
        },
        "6e60c01e4bf04f3e96f885a2a260906c": {
          "model_module": "@jupyter-widgets/controls",
          "model_name": "DescriptionStyleModel",
          "model_module_version": "1.5.0",
          "state": {
            "_model_module": "@jupyter-widgets/controls",
            "_model_module_version": "1.5.0",
            "_model_name": "DescriptionStyleModel",
            "_view_count": null,
            "_view_module": "@jupyter-widgets/base",
            "_view_module_version": "1.2.0",
            "_view_name": "StyleView",
            "description_width": ""
          }
        },
        "fe31757874b746cdbfa88484eb5a228d": {
          "model_module": "@jupyter-widgets/base",
          "model_name": "LayoutModel",
          "model_module_version": "1.2.0",
          "state": {
            "_model_module": "@jupyter-widgets/base",
            "_model_module_version": "1.2.0",
            "_model_name": "LayoutModel",
            "_view_count": null,
            "_view_module": "@jupyter-widgets/base",
            "_view_module_version": "1.2.0",
            "_view_name": "LayoutView",
            "align_content": null,
            "align_items": null,
            "align_self": null,
            "border": null,
            "bottom": null,
            "display": null,
            "flex": null,
            "flex_flow": null,
            "grid_area": null,
            "grid_auto_columns": null,
            "grid_auto_flow": null,
            "grid_auto_rows": null,
            "grid_column": null,
            "grid_gap": null,
            "grid_row": null,
            "grid_template_areas": null,
            "grid_template_columns": null,
            "grid_template_rows": null,
            "height": null,
            "justify_content": null,
            "justify_items": null,
            "left": null,
            "margin": null,
            "max_height": null,
            "max_width": null,
            "min_height": null,
            "min_width": null,
            "object_fit": null,
            "object_position": null,
            "order": null,
            "overflow": null,
            "overflow_x": null,
            "overflow_y": null,
            "padding": null,
            "right": null,
            "top": null,
            "visibility": null,
            "width": null
          }
        },
        "54d2cf8125664f64b3f1af620132e04f": {
          "model_module": "@jupyter-widgets/controls",
          "model_name": "ProgressStyleModel",
          "model_module_version": "1.5.0",
          "state": {
            "_model_module": "@jupyter-widgets/controls",
            "_model_module_version": "1.5.0",
            "_model_name": "ProgressStyleModel",
            "_view_count": null,
            "_view_module": "@jupyter-widgets/base",
            "_view_module_version": "1.2.0",
            "_view_name": "StyleView",
            "bar_color": null,
            "description_width": ""
          }
        },
        "b95276005a8c4c649bdcc6e2fe8fed66": {
          "model_module": "@jupyter-widgets/base",
          "model_name": "LayoutModel",
          "model_module_version": "1.2.0",
          "state": {
            "_model_module": "@jupyter-widgets/base",
            "_model_module_version": "1.2.0",
            "_model_name": "LayoutModel",
            "_view_count": null,
            "_view_module": "@jupyter-widgets/base",
            "_view_module_version": "1.2.0",
            "_view_name": "LayoutView",
            "align_content": null,
            "align_items": null,
            "align_self": null,
            "border": null,
            "bottom": null,
            "display": null,
            "flex": null,
            "flex_flow": null,
            "grid_area": null,
            "grid_auto_columns": null,
            "grid_auto_flow": null,
            "grid_auto_rows": null,
            "grid_column": null,
            "grid_gap": null,
            "grid_row": null,
            "grid_template_areas": null,
            "grid_template_columns": null,
            "grid_template_rows": null,
            "height": null,
            "justify_content": null,
            "justify_items": null,
            "left": null,
            "margin": null,
            "max_height": null,
            "max_width": null,
            "min_height": null,
            "min_width": null,
            "object_fit": null,
            "object_position": null,
            "order": null,
            "overflow": null,
            "overflow_x": null,
            "overflow_y": null,
            "padding": null,
            "right": null,
            "top": null,
            "visibility": null,
            "width": null
          }
        },
        "bcf2cd5791af47aa87e7059afab18750": {
          "model_module": "@jupyter-widgets/controls",
          "model_name": "DescriptionStyleModel",
          "model_module_version": "1.5.0",
          "state": {
            "_model_module": "@jupyter-widgets/controls",
            "_model_module_version": "1.5.0",
            "_model_name": "DescriptionStyleModel",
            "_view_count": null,
            "_view_module": "@jupyter-widgets/base",
            "_view_module_version": "1.2.0",
            "_view_name": "StyleView",
            "description_width": ""
          }
        }
      }
    }
  },
  "cells": [
    {
      "cell_type": "code",
      "execution_count": null,
      "metadata": {
        "colab": {
          "base_uri": "https://localhost:8080/"
        },
        "id": "QC9C-Wp1s8xQ",
        "outputId": "ee9458f4-0396-4334-ae37-100e11b457b9"
      },
      "outputs": [
        {
          "output_type": "stream",
          "name": "stdout",
          "text": [
            "Torch: 2.6.0+cu124 | CUDA: True\n",
            "GPU 0: NVIDIA A100-SXM4-40GB (UUID: GPU-783ab054-88f3-7a4d-a413-4235dfe5f61e)\n"
          ]
        }
      ],
      "source": [
        "import torch, subprocess, os, textwrap\n",
        "print(\"Torch:\", torch.__version__, \"| CUDA:\", torch.cuda.is_available())\n",
        "!nvidia-smi -L  # should list a GPU if you got one\n"
      ]
    },
    {
      "cell_type": "code",
      "source": [
        "!pip install -q seqeval\n"
      ],
      "metadata": {
        "colab": {
          "base_uri": "https://localhost:8080/"
        },
        "id": "8yL6C4FOuMyX",
        "outputId": "ed9d9f36-1057-4292-a335-b846c88a4794"
      },
      "execution_count": null,
      "outputs": [
        {
          "output_type": "stream",
          "name": "stdout",
          "text": [
            "\u001b[?25l     \u001b[90m━━━━━━━━━━━━━━━━━━━━━━━━━━━━━━━━━━━━━━━━\u001b[0m \u001b[32m0.0/43.6 kB\u001b[0m \u001b[31m?\u001b[0m eta \u001b[36m-:--:--\u001b[0m\r\u001b[2K     \u001b[90m━━━━━━━━━━━━━━━━━━━━━━━━━━━━━━━━━━━━━━━━\u001b[0m \u001b[32m43.6/43.6 kB\u001b[0m \u001b[31m1.9 MB/s\u001b[0m eta \u001b[36m0:00:00\u001b[0m\n",
            "\u001b[?25h  Preparing metadata (setup.py) ... \u001b[?25l\u001b[?25hdone\n",
            "  Building wheel for seqeval (setup.py) ... \u001b[?25l\u001b[?25hdone\n"
          ]
        }
      ]
    },
    {
      "cell_type": "code",
      "source": [
        "import itertools, pandas as pd\n",
        "\n",
        "def read_conll(path):\n",
        "    \"\"\"Reads CoNLL file -> list[ list[str] ], list[ list[str] ]\"\"\"\n",
        "    sents, labels, tokens, tags = [], [], [], []\n",
        "    with open(path, encoding=\"utf-8\") as f:\n",
        "        for line in f:\n",
        "            line = line.strip()\n",
        "            if not line or line.startswith(\"-DOCSTART-\"):\n",
        "                if tokens:\n",
        "                    sents.append(tokens); labels.append(tags)\n",
        "                    tokens, tags = [], []\n",
        "                continue\n",
        "            token, tag = line.split()[0], line.split()[-1]\n",
        "            tokens.append(token); tags.append(tag)\n",
        "    if tokens:                      # last sentence\n",
        "        sents.append(tokens); labels.append(tags)\n",
        "    return sents, labels\n",
        "\n",
        "train_s, train_l = read_conll(\"/content/train.txt\")\n",
        "val_s,   val_l   = read_conll(\"/content/valid.txt\")\n",
        "test_s,  test_l  = read_conll(\"/content/test.txt\")\n",
        "\n",
        "print(\"Train:\", len(train_s), \"Val:\", len(val_s), \"Test:\", len(test_s))\n"
      ],
      "metadata": {
        "colab": {
          "base_uri": "https://localhost:8080/"
        },
        "id": "m6M7dvdguM0r",
        "outputId": "249d4202-8cfc-43d9-a111-223529e52388"
      },
      "execution_count": null,
      "outputs": [
        {
          "output_type": "stream",
          "name": "stdout",
          "text": [
            "Train: 14041 Val: 3250 Test: 3453\n"
          ]
        }
      ]
    },
    {
      "cell_type": "code",
      "source": [
        "unique_tags = sorted({t for seq in itertools.chain(train_l, val_l, test_l) for t in seq})\n",
        "id2tag      = {i:t for i,t in enumerate(unique_tags)}\n",
        "tag2id      = {t:i for i,t in id2tag.items()}\n",
        "num_labels  = len(unique_tags)\n",
        "print(\"Labels:\", unique_tags)\n"
      ],
      "metadata": {
        "colab": {
          "base_uri": "https://localhost:8080/"
        },
        "id": "s5qOT_68uM25",
        "outputId": "792e029e-4fdc-4989-c940-ced6627877ab"
      },
      "execution_count": null,
      "outputs": [
        {
          "output_type": "stream",
          "name": "stdout",
          "text": [
            "Labels: ['B-LOC', 'B-MISC', 'B-ORG', 'B-PER', 'I-LOC', 'I-MISC', 'I-ORG', 'I-PER', 'O']\n"
          ]
        }
      ]
    },
    {
      "cell_type": "code",
      "source": [
        "from transformers import AutoTokenizer\n",
        "tokenizer = AutoTokenizer.from_pretrained(\"bert-base-cased\")\n"
      ],
      "metadata": {
        "colab": {
          "base_uri": "https://localhost:8080/",
          "height": 276,
          "referenced_widgets": [
            "58593c3e7167477e8ede9e166d61d26d",
            "ed70273678284c569a272cee957b7372",
            "5bf21e108cce4517b9d788156b71566f",
            "b76bd77d28d4487caeb2b2453efae360",
            "f08b1f25ee484e2ebc5c734bb9056ade",
            "c830b36a256847b6bb7939908704483f",
            "007ea5d119e74ca5af7398bf33126a6f",
            "ad595cf7877c48e28ea2d6f46b02de33",
            "05bfa4c2ecc1471db9fb944f7798cadb",
            "b9053a2f6d3041c3b6db5ec7a25e2d9b",
            "746c31aac324497ba8abb162ba26dfee",
            "f1a64e6519d149edb06ab20d787a824c",
            "f196d4804fc246158c7c238b729d4ed8",
            "b0d3b288fca7431f880baf82dd66e50e",
            "b722e59f644a45cd898f1042a29083f0",
            "aebb643acfe44bd3a80966b7155b190b",
            "b95058fe15f246059f8d78f0bf09641c",
            "a8bcedd67c86413090282ed333292dda",
            "ca071ac5703a4650bce9ae5aace0ae46",
            "196767875bfb496c997efe75b3a21e9e",
            "0bb64e02e1164717939c7dde5f27c7ce",
            "29156c28f6db434faa4e379302e166b0",
            "0a0c070b051e45a8b1e26a5af83dee5d",
            "3b2ed7031730498093913dcc6155e3af",
            "38650878703242418c4a4ee471adff62",
            "77d252f571d246a3aacc9e875f0ad2fb",
            "0736fc86b2ff4f56b9449606aab45be5",
            "46b0e1d911dc440cb7fe5163bd1dab7f",
            "8b874c5f656d4557812c5228e5393ab6",
            "4fc940573a344255bd42d575369fef2a",
            "e15dfed77ac242e39cad47efaf0b9724",
            "d4823c766640420db711ec0b41d75598",
            "eafa5615f51d4a2580022581b3ddea7b",
            "bdf7b38f83274367a9a4e7e4da169156",
            "97bec4db48ff4b43be2c8ec05dafa41e",
            "98011e577d124397beea1f0ff784e833",
            "c13f1fb614bb4ef699608d5d5b13e0a8",
            "9962358c3eb9468ab735266d491929e3",
            "9978b7ede82146a9a86523667d0a2354",
            "9131995ccd4b4f408903ab50f3444247",
            "fa766439765c4b5795fa9ca493b99fbc",
            "2c8edf2129994790b3eced23ed9343c6",
            "d13300cc57e64f4bb6bf597006ef5313",
            "5b740d40fe2f4ab3a6d4d3b1b17926ca"
          ]
        },
        "id": "4NwYCoq2uM5O",
        "outputId": "995a4316-9993-4237-8bc5-a05737c00070"
      },
      "execution_count": null,
      "outputs": [
        {
          "output_type": "stream",
          "name": "stderr",
          "text": [
            "/usr/local/lib/python3.11/dist-packages/huggingface_hub/utils/_auth.py:94: UserWarning: \n",
            "The secret `HF_TOKEN` does not exist in your Colab secrets.\n",
            "To authenticate with the Hugging Face Hub, create a token in your settings tab (https://huggingface.co/settings/tokens), set it as secret in your Google Colab and restart your session.\n",
            "You will be able to reuse this secret in all of your notebooks.\n",
            "Please note that authentication is recommended but still optional to access public models or datasets.\n",
            "  warnings.warn(\n"
          ]
        },
        {
          "output_type": "display_data",
          "data": {
            "text/plain": [
              "tokenizer_config.json:   0%|          | 0.00/49.0 [00:00<?, ?B/s]"
            ],
            "application/vnd.jupyter.widget-view+json": {
              "version_major": 2,
              "version_minor": 0,
              "model_id": "58593c3e7167477e8ede9e166d61d26d"
            }
          },
          "metadata": {}
        },
        {
          "output_type": "display_data",
          "data": {
            "text/plain": [
              "config.json:   0%|          | 0.00/570 [00:00<?, ?B/s]"
            ],
            "application/vnd.jupyter.widget-view+json": {
              "version_major": 2,
              "version_minor": 0,
              "model_id": "f1a64e6519d149edb06ab20d787a824c"
            }
          },
          "metadata": {}
        },
        {
          "output_type": "display_data",
          "data": {
            "text/plain": [
              "vocab.txt:   0%|          | 0.00/213k [00:00<?, ?B/s]"
            ],
            "application/vnd.jupyter.widget-view+json": {
              "version_major": 2,
              "version_minor": 0,
              "model_id": "0a0c070b051e45a8b1e26a5af83dee5d"
            }
          },
          "metadata": {}
        },
        {
          "output_type": "display_data",
          "data": {
            "text/plain": [
              "tokenizer.json:   0%|          | 0.00/436k [00:00<?, ?B/s]"
            ],
            "application/vnd.jupyter.widget-view+json": {
              "version_major": 2,
              "version_minor": 0,
              "model_id": "bdf7b38f83274367a9a4e7e4da169156"
            }
          },
          "metadata": {}
        }
      ]
    },
    {
      "cell_type": "code",
      "source": [
        "def encode(sentences, labels):\n",
        "    encodings = tokenizer(\n",
        "        sentences,                  # list[list[str]]\n",
        "        is_split_into_words=True,\n",
        "        return_offsets_mapping=True,\n",
        "        truncation=True,\n",
        "        padding=True\n",
        "    )\n",
        "    encoded_labels = []\n",
        "    for i, offsets in enumerate(encodings.pop(\"offset_mapping\")):\n",
        "        word_ids = encodings.word_ids(batch_index=i)\n",
        "        label_ids = []\n",
        "        prev_word = None\n",
        "        for word_id in word_ids:\n",
        "            if word_id is None:\n",
        "                label_ids.append(-100)\n",
        "            elif word_id != prev_word:\n",
        "                label_ids.append(tag2id[ labels[i][word_id] ])\n",
        "                prev_word = word_id\n",
        "            else:                       # sub-token of same word\n",
        "                label_ids.append(-100)\n",
        "        encoded_labels.append(label_ids)\n",
        "    encodings[\"labels\"] = encoded_labels\n",
        "    return encodings\n",
        "\n",
        "train_enc = encode(train_s, train_l)\n",
        "val_enc   = encode(val_s,   val_l)\n",
        "test_enc  = encode(test_s,  test_l)\n"
      ],
      "metadata": {
        "id": "0-00qjYxuM7f"
      },
      "execution_count": null,
      "outputs": []
    },
    {
      "cell_type": "code",
      "source": [
        "import torch\n",
        "class NERDataset(torch.utils.data.Dataset):\n",
        "    def __init__(self, enc): self.enc = enc\n",
        "    def __len__(self):       return len(self.enc[\"input_ids\"])\n",
        "    def __getitem__(self, i):\n",
        "        return {k: torch.tensor(v[i]) for k,v in self.enc.items()}\n",
        "\n",
        "train_ds, val_ds, test_ds = map(NERDataset, [train_enc, val_enc, test_enc])\n"
      ],
      "metadata": {
        "id": "NNoFnqDBuM9u"
      },
      "execution_count": null,
      "outputs": []
    },
    {
      "cell_type": "code",
      "source": [
        "from transformers import AutoModelForTokenClassification\n",
        "model = AutoModelForTokenClassification.from_pretrained(\n",
        "    \"bert-base-cased\",\n",
        "    num_labels=num_labels,\n",
        "    id2label=id2tag,\n",
        "    label2id=tag2id\n",
        ")\n"
      ],
      "metadata": {
        "colab": {
          "base_uri": "https://localhost:8080/",
          "height": 143,
          "referenced_widgets": [
            "e3a920ab5060472b9fbfcb5a18577724",
            "15f0e416c5ae401f82ddb6bda6c9d6a4",
            "3139911e37ad4cfe95607051e32e6a10",
            "ebdf0ce78bdc40008642710f4bcaec35",
            "06039894d4df490faee8cd5e7cf437dc",
            "de95dec3136c498b87bdd18dd4d69390",
            "6e60c01e4bf04f3e96f885a2a260906c",
            "fe31757874b746cdbfa88484eb5a228d",
            "54d2cf8125664f64b3f1af620132e04f",
            "b95276005a8c4c649bdcc6e2fe8fed66",
            "bcf2cd5791af47aa87e7059afab18750"
          ]
        },
        "id": "5CEZluNnuM_7",
        "outputId": "dbc13a47-b163-48fa-e828-99340b439d62"
      },
      "execution_count": null,
      "outputs": [
        {
          "output_type": "stream",
          "name": "stderr",
          "text": [
            "Xet Storage is enabled for this repo, but the 'hf_xet' package is not installed. Falling back to regular HTTP download. For better performance, install the package with: `pip install huggingface_hub[hf_xet]` or `pip install hf_xet`\n",
            "WARNING:huggingface_hub.file_download:Xet Storage is enabled for this repo, but the 'hf_xet' package is not installed. Falling back to regular HTTP download. For better performance, install the package with: `pip install huggingface_hub[hf_xet]` or `pip install hf_xet`\n"
          ]
        },
        {
          "output_type": "display_data",
          "data": {
            "text/plain": [
              "model.safetensors:   0%|          | 0.00/436M [00:00<?, ?B/s]"
            ],
            "application/vnd.jupyter.widget-view+json": {
              "version_major": 2,
              "version_minor": 0,
              "model_id": "e3a920ab5060472b9fbfcb5a18577724"
            }
          },
          "metadata": {}
        },
        {
          "output_type": "stream",
          "name": "stderr",
          "text": [
            "Some weights of BertForTokenClassification were not initialized from the model checkpoint at bert-base-cased and are newly initialized: ['classifier.bias', 'classifier.weight']\n",
            "You should probably TRAIN this model on a down-stream task to be able to use it for predictions and inference.\n"
          ]
        }
      ]
    },
    {
      "cell_type": "code",
      "source": [
        "from transformers import TrainingArguments, Trainer\n",
        "import numpy as np\n",
        "from seqeval.metrics import precision_score, recall_score, f1_score, classification_report\n",
        "\n",
        "def metrics_fn(pred):\n",
        "    logits, labels = pred\n",
        "    preds = np.argmax(logits, axis=-1)\n",
        "    true_tags, pred_tags = [], []\n",
        "    for p, l in zip(preds, labels):\n",
        "        seq_true, seq_pred = [], []\n",
        "        for pi, li in zip(p, l):\n",
        "            if li == -100:             # ignore sub-tokens / padding\n",
        "                continue\n",
        "            seq_true.append(id2tag[li])\n",
        "            seq_pred.append(id2tag[pi])\n",
        "        true_tags.append(seq_true)\n",
        "        pred_tags.append(seq_pred)\n",
        "    return {\n",
        "        \"precision\": precision_score(true_tags, pred_tags),\n",
        "        \"recall\":    recall_score(true_tags, pred_tags),\n",
        "        \"f1\":        f1_score(true_tags, pred_tags)\n",
        "    }\n",
        "\n",
        "args = TrainingArguments(\n",
        "    output_dir          = \"ner_modelV3\",\n",
        "    eval_strategy       = \"steps\",\n",
        "    save_strategy       = \"steps\",\n",
        "    learning_rate       = 6e-6,\n",
        "    per_device_train_batch_size = 16,\n",
        "    per_device_eval_batch_size  = 16,\n",
        "    num_train_epochs    = 5,\n",
        "    weight_decay        = 0.01,\n",
        "    logging_steps       = 100,\n",
        "    load_best_model_at_end = True,\n",
        "    metric_for_best_model = \"f1\"\n",
        ")\n",
        "\n",
        "trainer = Trainer(\n",
        "    model           = model,\n",
        "    args            = args,\n",
        "    train_dataset   = train_ds,\n",
        "    eval_dataset    = val_ds,\n",
        "    compute_metrics = metrics_fn,\n",
        "    tokenizer       = tokenizer\n",
        ")\n"
      ],
      "metadata": {
        "colab": {
          "base_uri": "https://localhost:8080/"
        },
        "id": "vwxux2f_uNCR",
        "outputId": "81a68c08-d9ec-42fb-e9eb-6dac28d0469d"
      },
      "execution_count": null,
      "outputs": [
        {
          "output_type": "stream",
          "name": "stderr",
          "text": [
            "<ipython-input-9-92354106ce0e>:38: FutureWarning: `tokenizer` is deprecated and will be removed in version 5.0.0 for `Trainer.__init__`. Use `processing_class` instead.\n",
            "  trainer = Trainer(\n"
          ]
        }
      ]
    },
    {
      "cell_type": "code",
      "source": [
        "trainer.train()"
      ],
      "metadata": {
        "colab": {
          "base_uri": "https://localhost:8080/",
          "height": 1000
        },
        "id": "vDdcpQchuNEO",
        "outputId": "0a79e9c1-8a19-4af2-91b8-1c3028272cbf"
      },
      "execution_count": null,
      "outputs": [
        {
          "output_type": "stream",
          "name": "stderr",
          "text": [
            "\u001b[34m\u001b[1mwandb\u001b[0m: \u001b[33mWARNING\u001b[0m The `run_name` is currently set to the same value as `TrainingArguments.output_dir`. If this was not intended, please specify a different run name by setting the `TrainingArguments.run_name` parameter.\n"
          ]
        },
        {
          "output_type": "display_data",
          "data": {
            "text/plain": [
              "<IPython.core.display.Javascript object>"
            ],
            "application/javascript": [
              "\n",
              "        window._wandbApiKey = new Promise((resolve, reject) => {\n",
              "            function loadScript(url) {\n",
              "            return new Promise(function(resolve, reject) {\n",
              "                let newScript = document.createElement(\"script\");\n",
              "                newScript.onerror = reject;\n",
              "                newScript.onload = resolve;\n",
              "                document.body.appendChild(newScript);\n",
              "                newScript.src = url;\n",
              "            });\n",
              "            }\n",
              "            loadScript(\"https://cdn.jsdelivr.net/npm/postmate/build/postmate.min.js\").then(() => {\n",
              "            const iframe = document.createElement('iframe')\n",
              "            iframe.style.cssText = \"width:0;height:0;border:none\"\n",
              "            document.body.appendChild(iframe)\n",
              "            const handshake = new Postmate({\n",
              "                container: iframe,\n",
              "                url: 'https://wandb.ai/authorize'\n",
              "            });\n",
              "            const timeout = setTimeout(() => reject(\"Couldn't auto authenticate\"), 5000)\n",
              "            handshake.then(function(child) {\n",
              "                child.on('authorize', data => {\n",
              "                    clearTimeout(timeout)\n",
              "                    resolve(data)\n",
              "                });\n",
              "            });\n",
              "            })\n",
              "        });\n",
              "    "
            ]
          },
          "metadata": {}
        },
        {
          "output_type": "stream",
          "name": "stderr",
          "text": [
            "\u001b[34m\u001b[1mwandb\u001b[0m: \u001b[33mWARNING\u001b[0m If you're specifying your api key in code, ensure this code is not shared publicly.\n",
            "\u001b[34m\u001b[1mwandb\u001b[0m: \u001b[33mWARNING\u001b[0m Consider setting the WANDB_API_KEY environment variable, or running `wandb login` from the command line.\n",
            "\u001b[34m\u001b[1mwandb\u001b[0m: No netrc file found, creating one.\n",
            "\u001b[34m\u001b[1mwandb\u001b[0m: Appending key for api.wandb.ai to your netrc file: /root/.netrc\n",
            "\u001b[34m\u001b[1mwandb\u001b[0m: Currently logged in as: \u001b[33mveyselbayrakci\u001b[0m (\u001b[33mveyselbayrakci-isik-universitesi\u001b[0m) to \u001b[32mhttps://api.wandb.ai\u001b[0m. Use \u001b[1m`wandb login --relogin`\u001b[0m to force relogin\n"
          ]
        },
        {
          "output_type": "display_data",
          "data": {
            "text/plain": [
              "<IPython.core.display.HTML object>"
            ],
            "text/html": [
              "Tracking run with wandb version 0.19.11"
            ]
          },
          "metadata": {}
        },
        {
          "output_type": "display_data",
          "data": {
            "text/plain": [
              "<IPython.core.display.HTML object>"
            ],
            "text/html": [
              "Run data is saved locally in <code>/content/wandb/run-20250530_112342-lkphwyz9</code>"
            ]
          },
          "metadata": {}
        },
        {
          "output_type": "display_data",
          "data": {
            "text/plain": [
              "<IPython.core.display.HTML object>"
            ],
            "text/html": [
              "Syncing run <strong><a href='https://wandb.ai/veyselbayrakci-isik-universitesi/huggingface/runs/lkphwyz9' target=\"_blank\">ner_modelV3</a></strong> to <a href='https://wandb.ai/veyselbayrakci-isik-universitesi/huggingface' target=\"_blank\">Weights & Biases</a> (<a href='https://wandb.me/developer-guide' target=\"_blank\">docs</a>)<br>"
            ]
          },
          "metadata": {}
        },
        {
          "output_type": "display_data",
          "data": {
            "text/plain": [
              "<IPython.core.display.HTML object>"
            ],
            "text/html": [
              " View project at <a href='https://wandb.ai/veyselbayrakci-isik-universitesi/huggingface' target=\"_blank\">https://wandb.ai/veyselbayrakci-isik-universitesi/huggingface</a>"
            ]
          },
          "metadata": {}
        },
        {
          "output_type": "display_data",
          "data": {
            "text/plain": [
              "<IPython.core.display.HTML object>"
            ],
            "text/html": [
              " View run at <a href='https://wandb.ai/veyselbayrakci-isik-universitesi/huggingface/runs/lkphwyz9' target=\"_blank\">https://wandb.ai/veyselbayrakci-isik-universitesi/huggingface/runs/lkphwyz9</a>"
            ]
          },
          "metadata": {}
        },
        {
          "output_type": "display_data",
          "data": {
            "text/plain": [
              "<IPython.core.display.HTML object>"
            ],
            "text/html": [
              "\n",
              "    <div>\n",
              "      \n",
              "      <progress value='4390' max='4390' style='width:300px; height:20px; vertical-align: middle;'></progress>\n",
              "      [4390/4390 14:23, Epoch 5/5]\n",
              "    </div>\n",
              "    <table border=\"1\" class=\"dataframe\">\n",
              "  <thead>\n",
              " <tr style=\"text-align: left;\">\n",
              "      <th>Step</th>\n",
              "      <th>Training Loss</th>\n",
              "      <th>Validation Loss</th>\n",
              "      <th>Precision</th>\n",
              "      <th>Recall</th>\n",
              "      <th>F1</th>\n",
              "    </tr>\n",
              "  </thead>\n",
              "  <tbody>\n",
              "    <tr>\n",
              "      <td>100</td>\n",
              "      <td>0.835100</td>\n",
              "      <td>0.397678</td>\n",
              "      <td>0.454028</td>\n",
              "      <td>0.388926</td>\n",
              "      <td>0.418963</td>\n",
              "    </tr>\n",
              "    <tr>\n",
              "      <td>200</td>\n",
              "      <td>0.269500</td>\n",
              "      <td>0.201791</td>\n",
              "      <td>0.626515</td>\n",
              "      <td>0.678391</td>\n",
              "      <td>0.651422</td>\n",
              "    </tr>\n",
              "    <tr>\n",
              "      <td>300</td>\n",
              "      <td>0.173700</td>\n",
              "      <td>0.139242</td>\n",
              "      <td>0.774575</td>\n",
              "      <td>0.804948</td>\n",
              "      <td>0.789469</td>\n",
              "    </tr>\n",
              "    <tr>\n",
              "      <td>400</td>\n",
              "      <td>0.115700</td>\n",
              "      <td>0.107241</td>\n",
              "      <td>0.833032</td>\n",
              "      <td>0.852238</td>\n",
              "      <td>0.842526</td>\n",
              "    </tr>\n",
              "    <tr>\n",
              "      <td>500</td>\n",
              "      <td>0.106400</td>\n",
              "      <td>0.087917</td>\n",
              "      <td>0.855237</td>\n",
              "      <td>0.873948</td>\n",
              "      <td>0.864491</td>\n",
              "    </tr>\n",
              "    <tr>\n",
              "      <td>600</td>\n",
              "      <td>0.084700</td>\n",
              "      <td>0.082042</td>\n",
              "      <td>0.866623</td>\n",
              "      <td>0.887917</td>\n",
              "      <td>0.877140</td>\n",
              "    </tr>\n",
              "    <tr>\n",
              "      <td>700</td>\n",
              "      <td>0.079200</td>\n",
              "      <td>0.072704</td>\n",
              "      <td>0.870699</td>\n",
              "      <td>0.898687</td>\n",
              "      <td>0.884472</td>\n",
              "    </tr>\n",
              "    <tr>\n",
              "      <td>800</td>\n",
              "      <td>0.069200</td>\n",
              "      <td>0.065660</td>\n",
              "      <td>0.888396</td>\n",
              "      <td>0.909626</td>\n",
              "      <td>0.898886</td>\n",
              "    </tr>\n",
              "    <tr>\n",
              "      <td>900</td>\n",
              "      <td>0.064800</td>\n",
              "      <td>0.063306</td>\n",
              "      <td>0.891816</td>\n",
              "      <td>0.911478</td>\n",
              "      <td>0.901540</td>\n",
              "    </tr>\n",
              "    <tr>\n",
              "      <td>1000</td>\n",
              "      <td>0.056500</td>\n",
              "      <td>0.057988</td>\n",
              "      <td>0.898107</td>\n",
              "      <td>0.918209</td>\n",
              "      <td>0.908047</td>\n",
              "    </tr>\n",
              "    <tr>\n",
              "      <td>1100</td>\n",
              "      <td>0.050700</td>\n",
              "      <td>0.056704</td>\n",
              "      <td>0.905851</td>\n",
              "      <td>0.919724</td>\n",
              "      <td>0.912735</td>\n",
              "    </tr>\n",
              "    <tr>\n",
              "      <td>1200</td>\n",
              "      <td>0.051400</td>\n",
              "      <td>0.054893</td>\n",
              "      <td>0.908940</td>\n",
              "      <td>0.922248</td>\n",
              "      <td>0.915546</td>\n",
              "    </tr>\n",
              "    <tr>\n",
              "      <td>1300</td>\n",
              "      <td>0.050100</td>\n",
              "      <td>0.053124</td>\n",
              "      <td>0.910658</td>\n",
              "      <td>0.924605</td>\n",
              "      <td>0.917578</td>\n",
              "    </tr>\n",
              "    <tr>\n",
              "      <td>1400</td>\n",
              "      <td>0.053300</td>\n",
              "      <td>0.050471</td>\n",
              "      <td>0.909932</td>\n",
              "      <td>0.926624</td>\n",
              "      <td>0.918202</td>\n",
              "    </tr>\n",
              "    <tr>\n",
              "      <td>1500</td>\n",
              "      <td>0.045800</td>\n",
              "      <td>0.051350</td>\n",
              "      <td>0.917434</td>\n",
              "      <td>0.921912</td>\n",
              "      <td>0.919668</td>\n",
              "    </tr>\n",
              "    <tr>\n",
              "      <td>1600</td>\n",
              "      <td>0.048200</td>\n",
              "      <td>0.046683</td>\n",
              "      <td>0.913422</td>\n",
              "      <td>0.935712</td>\n",
              "      <td>0.924433</td>\n",
              "    </tr>\n",
              "    <tr>\n",
              "      <td>1700</td>\n",
              "      <td>0.047600</td>\n",
              "      <td>0.045846</td>\n",
              "      <td>0.919291</td>\n",
              "      <td>0.933524</td>\n",
              "      <td>0.926353</td>\n",
              "    </tr>\n",
              "    <tr>\n",
              "      <td>1800</td>\n",
              "      <td>0.036800</td>\n",
              "      <td>0.046923</td>\n",
              "      <td>0.922233</td>\n",
              "      <td>0.934029</td>\n",
              "      <td>0.928094</td>\n",
              "    </tr>\n",
              "    <tr>\n",
              "      <td>1900</td>\n",
              "      <td>0.035500</td>\n",
              "      <td>0.045377</td>\n",
              "      <td>0.920404</td>\n",
              "      <td>0.936048</td>\n",
              "      <td>0.928160</td>\n",
              "    </tr>\n",
              "    <tr>\n",
              "      <td>2000</td>\n",
              "      <td>0.036700</td>\n",
              "      <td>0.046381</td>\n",
              "      <td>0.919411</td>\n",
              "      <td>0.935039</td>\n",
              "      <td>0.927159</td>\n",
              "    </tr>\n",
              "    <tr>\n",
              "      <td>2100</td>\n",
              "      <td>0.036300</td>\n",
              "      <td>0.044381</td>\n",
              "      <td>0.924544</td>\n",
              "      <td>0.938236</td>\n",
              "      <td>0.931340</td>\n",
              "    </tr>\n",
              "    <tr>\n",
              "      <td>2200</td>\n",
              "      <td>0.031000</td>\n",
              "      <td>0.044336</td>\n",
              "      <td>0.924011</td>\n",
              "      <td>0.935207</td>\n",
              "      <td>0.929575</td>\n",
              "    </tr>\n",
              "    <tr>\n",
              "      <td>2300</td>\n",
              "      <td>0.030100</td>\n",
              "      <td>0.043498</td>\n",
              "      <td>0.927409</td>\n",
              "      <td>0.939583</td>\n",
              "      <td>0.933456</td>\n",
              "    </tr>\n",
              "    <tr>\n",
              "      <td>2400</td>\n",
              "      <td>0.036500</td>\n",
              "      <td>0.043752</td>\n",
              "      <td>0.925477</td>\n",
              "      <td>0.938405</td>\n",
              "      <td>0.931896</td>\n",
              "    </tr>\n",
              "    <tr>\n",
              "      <td>2500</td>\n",
              "      <td>0.036700</td>\n",
              "      <td>0.043298</td>\n",
              "      <td>0.933445</td>\n",
              "      <td>0.941770</td>\n",
              "      <td>0.937589</td>\n",
              "    </tr>\n",
              "    <tr>\n",
              "      <td>2600</td>\n",
              "      <td>0.030800</td>\n",
              "      <td>0.042294</td>\n",
              "      <td>0.932313</td>\n",
              "      <td>0.943453</td>\n",
              "      <td>0.937850</td>\n",
              "    </tr>\n",
              "    <tr>\n",
              "      <td>2700</td>\n",
              "      <td>0.027200</td>\n",
              "      <td>0.042386</td>\n",
              "      <td>0.931441</td>\n",
              "      <td>0.944295</td>\n",
              "      <td>0.937824</td>\n",
              "    </tr>\n",
              "    <tr>\n",
              "      <td>2800</td>\n",
              "      <td>0.026900</td>\n",
              "      <td>0.042628</td>\n",
              "      <td>0.936245</td>\n",
              "      <td>0.941602</td>\n",
              "      <td>0.938916</td>\n",
              "    </tr>\n",
              "    <tr>\n",
              "      <td>2900</td>\n",
              "      <td>0.024900</td>\n",
              "      <td>0.042202</td>\n",
              "      <td>0.931584</td>\n",
              "      <td>0.944127</td>\n",
              "      <td>0.937813</td>\n",
              "    </tr>\n",
              "    <tr>\n",
              "      <td>3000</td>\n",
              "      <td>0.029900</td>\n",
              "      <td>0.041869</td>\n",
              "      <td>0.932116</td>\n",
              "      <td>0.945136</td>\n",
              "      <td>0.938581</td>\n",
              "    </tr>\n",
              "    <tr>\n",
              "      <td>3100</td>\n",
              "      <td>0.021700</td>\n",
              "      <td>0.041412</td>\n",
              "      <td>0.934331</td>\n",
              "      <td>0.945809</td>\n",
              "      <td>0.940035</td>\n",
              "    </tr>\n",
              "    <tr>\n",
              "      <td>3200</td>\n",
              "      <td>0.028200</td>\n",
              "      <td>0.041536</td>\n",
              "      <td>0.932423</td>\n",
              "      <td>0.942780</td>\n",
              "      <td>0.937573</td>\n",
              "    </tr>\n",
              "    <tr>\n",
              "      <td>3300</td>\n",
              "      <td>0.024800</td>\n",
              "      <td>0.040313</td>\n",
              "      <td>0.935022</td>\n",
              "      <td>0.944463</td>\n",
              "      <td>0.939719</td>\n",
              "    </tr>\n",
              "    <tr>\n",
              "      <td>3400</td>\n",
              "      <td>0.024100</td>\n",
              "      <td>0.040313</td>\n",
              "      <td>0.935076</td>\n",
              "      <td>0.945305</td>\n",
              "      <td>0.940162</td>\n",
              "    </tr>\n",
              "    <tr>\n",
              "      <td>3500</td>\n",
              "      <td>0.024800</td>\n",
              "      <td>0.040921</td>\n",
              "      <td>0.936103</td>\n",
              "      <td>0.944295</td>\n",
              "      <td>0.940181</td>\n",
              "    </tr>\n",
              "    <tr>\n",
              "      <td>3600</td>\n",
              "      <td>0.021000</td>\n",
              "      <td>0.041016</td>\n",
              "      <td>0.934186</td>\n",
              "      <td>0.945978</td>\n",
              "      <td>0.940045</td>\n",
              "    </tr>\n",
              "    <tr>\n",
              "      <td>3700</td>\n",
              "      <td>0.024100</td>\n",
              "      <td>0.040635</td>\n",
              "      <td>0.936886</td>\n",
              "      <td>0.946819</td>\n",
              "      <td>0.941826</td>\n",
              "    </tr>\n",
              "    <tr>\n",
              "      <td>3800</td>\n",
              "      <td>0.022800</td>\n",
              "      <td>0.040549</td>\n",
              "      <td>0.936585</td>\n",
              "      <td>0.946988</td>\n",
              "      <td>0.941757</td>\n",
              "    </tr>\n",
              "    <tr>\n",
              "      <td>3900</td>\n",
              "      <td>0.021600</td>\n",
              "      <td>0.040921</td>\n",
              "      <td>0.935844</td>\n",
              "      <td>0.945136</td>\n",
              "      <td>0.940467</td>\n",
              "    </tr>\n",
              "    <tr>\n",
              "      <td>4000</td>\n",
              "      <td>0.019400</td>\n",
              "      <td>0.040853</td>\n",
              "      <td>0.935720</td>\n",
              "      <td>0.945641</td>\n",
              "      <td>0.940655</td>\n",
              "    </tr>\n",
              "    <tr>\n",
              "      <td>4100</td>\n",
              "      <td>0.020600</td>\n",
              "      <td>0.040921</td>\n",
              "      <td>0.935597</td>\n",
              "      <td>0.946146</td>\n",
              "      <td>0.940842</td>\n",
              "    </tr>\n",
              "    <tr>\n",
              "      <td>4200</td>\n",
              "      <td>0.022900</td>\n",
              "      <td>0.040862</td>\n",
              "      <td>0.935430</td>\n",
              "      <td>0.945978</td>\n",
              "      <td>0.940674</td>\n",
              "    </tr>\n",
              "    <tr>\n",
              "      <td>4300</td>\n",
              "      <td>0.024000</td>\n",
              "      <td>0.040817</td>\n",
              "      <td>0.935097</td>\n",
              "      <td>0.945641</td>\n",
              "      <td>0.940340</td>\n",
              "    </tr>\n",
              "  </tbody>\n",
              "</table><p>"
            ]
          },
          "metadata": {}
        },
        {
          "output_type": "execute_result",
          "data": {
            "text/plain": [
              "TrainOutput(global_step=4390, training_loss=0.06701238994446322, metrics={'train_runtime': 871.5158, 'train_samples_per_second': 80.555, 'train_steps_per_second': 5.037, 'total_flos': 6198772378819590.0, 'train_loss': 0.06701238994446322, 'epoch': 5.0})"
            ]
          },
          "metadata": {},
          "execution_count": 10
        }
      ]
    },
    {
      "cell_type": "code",
      "source": [
        "metrics = trainer.evaluate(test_ds)\n",
        "print(metrics)"
      ],
      "metadata": {
        "colab": {
          "base_uri": "https://localhost:8080/",
          "height": 75
        },
        "id": "u2VFYYttuNGW",
        "outputId": "d318257c-4dcd-4391-d243-d7d9eae6246a"
      },
      "execution_count": null,
      "outputs": [
        {
          "output_type": "display_data",
          "data": {
            "text/plain": [
              "<IPython.core.display.HTML object>"
            ],
            "text/html": [
              "\n",
              "    <div>\n",
              "      \n",
              "      <progress value='216' max='216' style='width:300px; height:20px; vertical-align: middle;'></progress>\n",
              "      [216/216 00:07]\n",
              "    </div>\n",
              "    "
            ]
          },
          "metadata": {}
        },
        {
          "output_type": "stream",
          "name": "stdout",
          "text": [
            "{'eval_loss': 0.10661941021680832, 'eval_precision': 0.8995823181343543, 'eval_recall': 0.9151912181303116, 'eval_f1': 0.9073196419167983, 'eval_runtime': 8.4094, 'eval_samples_per_second': 410.612, 'eval_steps_per_second': 25.686, 'epoch': 5.0}\n"
          ]
        }
      ]
    },
    {
      "cell_type": "code",
      "source": [
        "pred_logits = trainer.predict(test_ds).predictions\n",
        "pred_ids    = np.argmax(pred_logits, axis=-1)\n",
        "\n",
        "true_tags, pred_tags = [], []\n",
        "for p, l in zip(pred_ids, test_enc[\"labels\"]):\n",
        "    t_seq, p_seq = [], []\n",
        "    for pi, li in zip(p, l):\n",
        "        if li == -100: continue\n",
        "        t_seq.append(id2tag[li]); p_seq.append(id2tag[pi])\n",
        "    true_tags.append(t_seq); pred_tags.append(p_seq)\n",
        "\n",
        "print(classification_report(true_tags, pred_tags))\n"
      ],
      "metadata": {
        "colab": {
          "base_uri": "https://localhost:8080/",
          "height": 220
        },
        "id": "ndx_Ye6IuNIf",
        "outputId": "3db502f2-8564-478e-c24d-a3425f4df66a"
      },
      "execution_count": null,
      "outputs": [
        {
          "output_type": "display_data",
          "data": {
            "text/plain": [
              "<IPython.core.display.HTML object>"
            ],
            "text/html": []
          },
          "metadata": {}
        },
        {
          "output_type": "stream",
          "name": "stdout",
          "text": [
            "              precision    recall  f1-score   support\n",
            "\n",
            "         LOC       0.93      0.93      0.93      1668\n",
            "        MISC       0.75      0.83      0.79       702\n",
            "         ORG       0.88      0.90      0.89      1661\n",
            "         PER       0.96      0.96      0.96      1617\n",
            "\n",
            "   micro avg       0.90      0.92      0.91      5648\n",
            "   macro avg       0.88      0.90      0.89      5648\n",
            "weighted avg       0.90      0.92      0.91      5648\n",
            "\n"
          ]
        }
      ]
    },
    {
      "cell_type": "code",
      "source": [
        "trainer.save_model(\"/content/ner_bert_NLPv3\")\n",
        "tokenizer.save_pretrained(\"/content/ner_bert_NLPv3\")\n"
      ],
      "metadata": {
        "colab": {
          "base_uri": "https://localhost:8080/"
        },
        "id": "_gWX9jzfuNKe",
        "outputId": "7cc5ce79-6553-46a8-e57b-1dcbcc238927"
      },
      "execution_count": null,
      "outputs": [
        {
          "output_type": "execute_result",
          "data": {
            "text/plain": [
              "('/content/ner_bert_NLPv3/tokenizer_config.json',\n",
              " '/content/ner_bert_NLPv3/special_tokens_map.json',\n",
              " '/content/ner_bert_NLPv3/vocab.txt',\n",
              " '/content/ner_bert_NLPv3/added_tokens.json',\n",
              " '/content/ner_bert_NLPv3/tokenizer.json')"
            ]
          },
          "metadata": {},
          "execution_count": 14
        }
      ]
    },
    {
      "cell_type": "code",
      "source": [
        "import shutil, pathlib, zipfile\n",
        "\n",
        "ckpt_dir = pathlib.Path(\"/content/ner_bert_NLPv3\")\n",
        "zip_path = \"/content/ner_bert_NLPv3.zip\"\n",
        "\n",
        "shutil.make_archive(base_name=zip_path.replace(\".zip\",\"\"),\n",
        "                    format=\"zip\",\n",
        "                    root_dir=ckpt_dir)\n",
        "\n",
        "from google.colab import files\n",
        "files.download(zip_path)        # Tarayıcınıza iner\n"
      ],
      "metadata": {
        "colab": {
          "base_uri": "https://localhost:8080/",
          "height": 34
        },
        "id": "uNzOsY7ouNMX",
        "outputId": "5f531be0-1fa7-4f9c-f795-5b3ffac01cc8"
      },
      "execution_count": null,
      "outputs": [
        {
          "output_type": "display_data",
          "data": {
            "text/plain": [
              "<IPython.core.display.Javascript object>"
            ],
            "application/javascript": [
              "\n",
              "    async function download(id, filename, size) {\n",
              "      if (!google.colab.kernel.accessAllowed) {\n",
              "        return;\n",
              "      }\n",
              "      const div = document.createElement('div');\n",
              "      const label = document.createElement('label');\n",
              "      label.textContent = `Downloading \"${filename}\": `;\n",
              "      div.appendChild(label);\n",
              "      const progress = document.createElement('progress');\n",
              "      progress.max = size;\n",
              "      div.appendChild(progress);\n",
              "      document.body.appendChild(div);\n",
              "\n",
              "      const buffers = [];\n",
              "      let downloaded = 0;\n",
              "\n",
              "      const channel = await google.colab.kernel.comms.open(id);\n",
              "      // Send a message to notify the kernel that we're ready.\n",
              "      channel.send({})\n",
              "\n",
              "      for await (const message of channel.messages) {\n",
              "        // Send a message to notify the kernel that we're ready.\n",
              "        channel.send({})\n",
              "        if (message.buffers) {\n",
              "          for (const buffer of message.buffers) {\n",
              "            buffers.push(buffer);\n",
              "            downloaded += buffer.byteLength;\n",
              "            progress.value = downloaded;\n",
              "          }\n",
              "        }\n",
              "      }\n",
              "      const blob = new Blob(buffers, {type: 'application/binary'});\n",
              "      const a = document.createElement('a');\n",
              "      a.href = window.URL.createObjectURL(blob);\n",
              "      a.download = filename;\n",
              "      div.appendChild(a);\n",
              "      a.click();\n",
              "      div.remove();\n",
              "    }\n",
              "  "
            ]
          },
          "metadata": {}
        },
        {
          "output_type": "display_data",
          "data": {
            "text/plain": [
              "<IPython.core.display.Javascript object>"
            ],
            "application/javascript": [
              "download(\"download_5b526eb8-681c-4699-9c4f-bb6774113f98\", \"ner_bert_NLPv3.zip\", 400273099)"
            ]
          },
          "metadata": {}
        }
      ]
    },
    {
      "cell_type": "code",
      "source": [
        "from transformers import AutoTokenizer, AutoModelForTokenClassification\n",
        "import torch, numpy as np\n",
        "\n",
        "model_dir = \"/content/ner_bert_NLPv3\"   # ya da indirdiğiniz zip’i açtığınız yer\n",
        "tok  = AutoTokenizer.from_pretrained(model_dir)\n",
        "ner  = AutoModelForTokenClassification.from_pretrained(model_dir)\n",
        "\n",
        "sentence = \"Donald Trump and Donald Duck is an amazing person who works at Facebook and Google at California\"\n",
        "tokens   = tok(sentence, return_tensors=\"pt\")\n",
        "with torch.no_grad():\n",
        "    logits = ner(**tokens).logits\n",
        "pred_ids = logits.argmax(-1).squeeze().tolist()\n",
        "\n",
        "for sub_tok, tag_id in zip(tok.tokenize(sentence), pred_ids[1:-1]):  # CLS-SEP hariç\n",
        "    tag = ner.config.id2label[tag_id]\n",
        "    print(f\"{sub_tok:12} → {tag}\")\n"
      ],
      "metadata": {
        "colab": {
          "base_uri": "https://localhost:8080/"
        },
        "id": "xKHNJ_v5uiY_",
        "outputId": "687dc70f-a99e-499f-97f2-16306e25dec0"
      },
      "execution_count": null,
      "outputs": [
        {
          "output_type": "stream",
          "name": "stdout",
          "text": [
            "Donald       → B-PER\n",
            "Trump        → I-PER\n",
            "and          → O\n",
            "Donald       → B-PER\n",
            "Duck         → I-PER\n",
            "is           → O\n",
            "an           → O\n",
            "amazing      → O\n",
            "person       → O\n",
            "who          → O\n",
            "works        → O\n",
            "at           → O\n",
            "Facebook     → B-ORG\n",
            "and          → O\n",
            "Google       → B-ORG\n",
            "at           → O\n",
            "California   → B-LOC\n"
          ]
        }
      ]
    },
    {
      "cell_type": "code",
      "source": [
        "import matplotlib.pyplot as plt\n",
        "import pandas as pd\n",
        "import numpy as np\n",
        "\n",
        "# 1) Numeric Results\n",
        "val_metrics = trainer.evaluate(val_ds)\n",
        "test_metrics = trainer.evaluate(test_ds)\n",
        "\n",
        "print(\"Validation Metrics:\")\n",
        "for k, v in val_metrics.items():\n",
        "    if k.startswith(\"eval_\"):\n",
        "        print(f\"  {k}: {v:.4f}\")\n",
        "\n",
        "print(\"\\nTest Metrics:\")\n",
        "for k, v in test_metrics.items():\n",
        "    if k.startswith(\"eval_\"):\n",
        "        print(f\"  {k}: {v:.4f}\")\n",
        "\n",
        "# 2) Visual Results from log_history\n",
        "history = pd.DataFrame(trainer.state.log_history)\n",
        "\n",
        "# a) Train & Eval loss vs step\n",
        "train_loss_df = history[['step', 'loss']].dropna()\n",
        "eval_df       = history[['step', 'eval_loss', 'eval_precision', 'eval_recall', 'eval_f1']].dropna()\n",
        "\n",
        "plt.figure(figsize=(10, 6), dpi=200)\n",
        "plt.plot(train_loss_df['step'], train_loss_df['loss'], label='train_loss', linewidth=1.5)\n",
        "plt.plot(eval_df['step'],       eval_df['eval_loss'], label='eval_loss',  linewidth=1.5)\n",
        "plt.xlabel('Step')\n",
        "plt.ylabel('Loss')\n",
        "plt.title('Training & Evaluation Loss vs. Step')\n",
        "plt.legend()\n",
        "plt.grid(True)\n",
        "plt.tight_layout()\n",
        "plt.show()\n",
        "\n",
        "# b) Precision / Recall / F1 vs step\n",
        "plt.figure(figsize=(10, 6), dpi=200)\n",
        "plt.plot(eval_df['step'], eval_df['eval_precision'], marker='o', label='Precision')\n",
        "plt.plot(eval_df['step'], eval_df['eval_recall'],    marker='o', label='Recall')\n",
        "plt.plot(eval_df['step'], eval_df['eval_f1'],        marker='o', label='F1-score')\n",
        "plt.xlabel('Step')\n",
        "plt.ylabel('Score')\n",
        "plt.title('Evaluation Metrics vs. Step')\n",
        "plt.ylim(0, 1.0)\n",
        "plt.legend()\n",
        "plt.grid(True)\n",
        "plt.tight_layout()\n",
        "plt.show()\n",
        "\n",
        "# c) Final-step bar chart\n",
        "final_step = eval_df['step'].max()\n",
        "final_row  = eval_df[eval_df['step'] == final_step].iloc[0]\n",
        "final_scores = {\n",
        "    'Precision': final_row['eval_precision'],\n",
        "    'Recall':    final_row['eval_recall'],\n",
        "    'F1-score':  final_row['eval_f1']\n",
        "}\n",
        "\n",
        "plt.figure(figsize=(8, 5), dpi=200)\n",
        "bars = plt.bar(final_scores.keys(), final_scores.values())\n",
        "for bar, score in zip(bars, final_scores.values()):\n",
        "    plt.text(bar.get_x() + bar.get_width()/2, score + 0.01,\n",
        "             f\"{score:.3f}\", ha='center')\n",
        "plt.ylim(0, 1.0)\n",
        "plt.title(f\"Final Metrics at Step {int(final_step)}\")\n",
        "plt.grid(axis='y')\n",
        "plt.tight_layout()\n",
        "plt.show()"
      ],
      "metadata": {
        "colab": {
          "base_uri": "https://localhost:8080/",
          "height": 1000
        },
        "id": "x_qCbYA4uibe",
        "outputId": "5b97cd35-2395-437b-9ef5-286ff588a3e7"
      },
      "execution_count": null,
      "outputs": [
        {
          "output_type": "display_data",
          "data": {
            "text/plain": [
              "<IPython.core.display.HTML object>"
            ],
            "text/html": [
              "\n",
              "    <div>\n",
              "      \n",
              "      <progress value='420' max='204' style='width:300px; height:20px; vertical-align: middle;'></progress>\n",
              "      [204/204 00:15]\n",
              "    </div>\n",
              "    "
            ]
          },
          "metadata": {}
        },
        {
          "output_type": "stream",
          "name": "stdout",
          "text": [
            "Validation Metrics:\n",
            "  eval_loss: 0.0409\n",
            "  eval_precision: 0.9361\n",
            "  eval_recall: 0.9443\n",
            "  eval_f1: 0.9402\n",
            "  eval_runtime: 7.9029\n",
            "  eval_samples_per_second: 411.2410\n",
            "  eval_steps_per_second: 25.8130\n",
            "\n",
            "Test Metrics:\n",
            "  eval_loss: 0.1066\n",
            "  eval_precision: 0.8996\n",
            "  eval_recall: 0.9152\n",
            "  eval_f1: 0.9073\n",
            "  eval_runtime: 8.3953\n",
            "  eval_samples_per_second: 411.3010\n",
            "  eval_steps_per_second: 25.7290\n"
          ]
        },
        {
          "output_type": "display_data",
          "data": {
            "text/plain": [
              "<Figure size 2000x1200 with 1 Axes>"
            ],
            "image/png": "[encoded data removed]"
          },
          "metadata": {}
        },
        {
          "output_type": "display_data",
          "data": {
            "text/plain": [
              "<Figure size 2000x1200 with 1 Axes>"
            ],
            "image/png": "[encoded data removed]"
          },
          "metadata": {}
        },
        {
          "output_type": "display_data",
          "data": {
            "text/plain": [
              "<Figure size 1600x1000 with 1 Axes>"
            ],
            "image/png": "[encoded data removed]"
          },
          "metadata": {}
        }
      ]
    },
    {
      "cell_type": "code",
      "source": [],
      "metadata": {
        "id": "L-ufgVKcuij-"
      },
      "execution_count": null,
      "outputs": []
    },
    {
      "cell_type": "code",
      "source": [],
      "metadata": {
        "id": "Nn2yyQAXuimm"
      },
      "execution_count": null,
      "outputs": []
    },
    {
      "cell_type": "code",
      "source": [],
      "metadata": {
        "id": "87IN9v6duipO"
      },
      "execution_count": null,
      "outputs": []
    }
  ]
}